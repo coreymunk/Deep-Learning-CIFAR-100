{
  "cells": [
    {
      "cell_type": "markdown",
      "metadata": {
        "id": "view-in-github",
        "colab_type": "text"
      },
      "source": [
        "<a href=\"https://colab.research.google.com/github/coreymunk/Deep-Learning-CIFAR-100/blob/main/baseline_ResNet50.ipynb\" target=\"_parent\"><img src=\"https://colab.research.google.com/assets/colab-badge.svg\" alt=\"Open In Colab\"/></a>"
      ]
    },
    {
      "cell_type": "code",
      "execution_count": 16,
      "metadata": {
        "id": "gwZDtxLm6RKM"
      },
      "outputs": [],
      "source": [
        "import numpy as np\n",
        "import pandas as pd\n",
        "import matplotlib.pyplot as plt\n",
        "import seaborn as sns\n",
        "from datetime import datetime\n",
        "from sklearn.metrics import accuracy_score, confusion_matrix\n",
        "from sklearn.model_selection import train_test_split\n",
        "\n",
        "import tensorflow as tf\n",
        "from tensorflow import keras\n",
        "from tensorflow.keras import layers\n",
        "from tensorflow.keras.layers import Dense, Flatten, Conv2D, UpSampling2D, Dropout, BatchNormalization, GlobalAveragePooling2D\n",
        "from tensorflow.keras.preprocessing import image\n",
        "from tensorflow.keras.preprocessing.image import ImageDataGenerator\n",
        "from tensorflow.keras.utils import to_categorical\n",
        "\n"
      ],
      "id": "gwZDtxLm6RKM"
    },
    {
      "cell_type": "markdown",
      "metadata": {
        "id": "Xq0l8neT6IjA"
      },
      "source": [
        "Now lets use a high-performing out of the box model as a baseline and see what happens. This model utilizes a ResNet50 architecture and I found it on [Kaggle](https://www.kaggle.com/code/saileshnair/cifar-100-transfer-learning-resnet50). Salesh Nair created the code for it and we adapted it for this project. We trained the model on about a 1/3 of the available data so we could run the model to its completion."
      ],
      "id": "Xq0l8neT6IjA"
    },
    {
      "cell_type": "markdown",
      "metadata": {
        "id": "7a0e2b90"
      },
      "source": [
        "## Using Resnet50 for Transfer Learning and classify the Cifar - 100 data\n",
        "\n",
        "### The CIFAR-10 dataset consists of 60000 32x32 colour images in 10 classes, with 6000 images per class. There are 50000 training images and 10000 test images"
      ],
      "id": "7a0e2b90"
    },
    {
      "cell_type": "markdown",
      "metadata": {
        "id": "f20d0c5e"
      },
      "source": [
        "## Importing Libraries"
      ],
      "id": "f20d0c5e"
    },
    {
      "cell_type": "code",
      "execution_count": 17,
      "metadata": {
        "colab": {
          "base_uri": "https://localhost:8080/",
          "height": 35
        },
        "id": "nfoPgLF1_eRO",
        "outputId": "13fc6610-bfcc-403b-b661-069cb4339c22"
      },
      "outputs": [
        {
          "output_type": "execute_result",
          "data": {
            "text/plain": [
              "'Directory created successfully'"
            ],
            "application/vnd.google.colaboratory.intrinsic+json": {
              "type": "string"
            }
          },
          "metadata": {},
          "execution_count": 17
        }
      ],
      "source": [
        "import datetime, os\n",
        "log_dir = \"logs\"\n",
        "\n",
        "# Create the directory if it doesn't exist\n",
        "if not os.path.exists(log_dir):\n",
        "    os.makedirs(log_dir)\n",
        "\n",
        "# Check if the directory was created successfully\n",
        "\"Directory created successfully\" if os.path.exists(log_dir) else \"Failed to create directory\""
      ],
      "id": "nfoPgLF1_eRO"
    },
    {
      "cell_type": "code",
      "execution_count": 18,
      "metadata": {
        "colab": {
          "base_uri": "https://localhost:8080/"
        },
        "id": "NDm1M7ZN7Xuh",
        "outputId": "fc4b675d-dc1c-48a3-bc89-250051ce0daf"
      },
      "outputs": [
        {
          "output_type": "stream",
          "name": "stdout",
          "text": [
            "The tensorboard extension is already loaded. To reload it, use:\n",
            "  %reload_ext tensorboard\n"
          ]
        }
      ],
      "source": [
        "%load_ext tensorboard"
      ],
      "id": "NDm1M7ZN7Xuh"
    },
    {
      "cell_type": "markdown",
      "metadata": {
        "id": "Vpzh-MWKdUgB"
      },
      "source": [],
      "id": "Vpzh-MWKdUgB"
    },
    {
      "cell_type": "markdown",
      "metadata": {
        "id": "a509f455"
      },
      "source": [
        "## Importing the Cifar 100 Dataset"
      ],
      "id": "a509f455"
    },
    {
      "cell_type": "code",
      "execution_count": 19,
      "metadata": {
        "id": "36652a1f"
      },
      "outputs": [],
      "source": [
        "cifar100 = tf.keras.datasets.cifar100\n",
        "(X_train, Y_train), (X_test,Y_test) = cifar100.load_data()\n",
        "# Load the CIFAR-100 dataset\n",
        "(X_train, Y_train), (X_test, Y_test) = tf.keras.datasets.cifar100.load_data()\n",
        "\n",
        "\n"
      ],
      "id": "36652a1f"
    },
    {
      "cell_type": "code",
      "execution_count": 20,
      "metadata": {
        "id": "fczeU1Q_8Aei"
      },
      "outputs": [],
      "source": [
        "# Select the desired subsets (first 10000 for training and first 1000 for testing)\n",
        "X_train_subset = X_train[:50000]\n",
        "Y_train_subset = Y_train[:50000]\n",
        "X_test_subset = X_test[:10000]\n",
        "Y_test_subset = Y_test[:10000]"
      ],
      "id": "fczeU1Q_8Aei"
    },
    {
      "cell_type": "code",
      "execution_count": 21,
      "metadata": {
        "id": "1eafc282"
      },
      "outputs": [],
      "source": [
        "def timer(start_time=None):\n",
        "  #function to track time\n",
        "  if not start_time:\n",
        "      print(datetime.now())\n",
        "      start_time = datetime.now()\n",
        "      return start_time\n",
        "  elif start_time:\n",
        "      thour, temp_sec = divmod((datetime.now() - start_time).total_seconds(), 3600)\n",
        "      tmin, tsec = divmod(temp_sec, 60)\n",
        "      print('Time taken: %i hours %i minutes and %s seconds.' % (thour, tmin, round(tsec, 2)))\n",
        "\n",
        "def plot_acc_loss(result):\n",
        "  # function to plot the accuracy and loss graphs\n",
        "  acc = result.history['accuracy']\n",
        "  val_acc = result.history['val_accuracy']\n",
        "  loss = result.history['loss']\n",
        "  val_loss = result.history['val_loss']\n",
        "\n",
        "  plt.figure(figsize=(20, 10))\n",
        "  plt.subplot(1, 2, 1)\n",
        "  plt.title(\"Training and Validation Accuracy\")\n",
        "  plt.plot(acc,color = 'green',label = 'Training Acuracy')\n",
        "  plt.plot(val_acc,color = 'red',label = 'Validation Accuracy')\n",
        "  plt.legend(loc='lower right')\n",
        "  plt.ylabel('accuracy')\n",
        "  plt.xlabel('epoch')\n",
        "  plt.subplot(1, 2, 2)\n",
        "  plt.title('Training and Validation Loss')\n",
        "  plt.plot(loss,color = 'blue',label = 'Training Loss')\n",
        "  plt.plot(val_loss,color = 'purple',label = 'Validation Loss')\n",
        "  plt.ylabel('loss')\n",
        "  plt.xlabel('epoch')\n",
        "  plt.legend(loc='upper right')\n",
        "  plt.show()"
      ],
      "id": "1eafc282"
    },
    {
      "cell_type": "markdown",
      "metadata": {
        "id": "671ddc4c"
      },
      "source": [
        "##  Plotting some images from the dataset"
      ],
      "id": "671ddc4c"
    },
    {
      "cell_type": "code",
      "execution_count": 22,
      "metadata": {
        "id": "e96d6cba"
      },
      "outputs": [],
      "source": [
        "# plt.figure(figsize=(12,12))\n",
        "# for i in range(100):\n",
        "#   plt.subplot(10,10,1+i)\n",
        "#   plt.axis('off')\n",
        "#   plt.imshow(X_train[i],cmap='gray')"
      ],
      "id": "e96d6cba"
    },
    {
      "cell_type": "markdown",
      "metadata": {
        "id": "31615bb8"
      },
      "source": [
        "## Splitting the train data again - we use the val set as test set and previous test set for final predictions"
      ],
      "id": "31615bb8"
    },
    {
      "cell_type": "code",
      "execution_count": 23,
      "metadata": {
        "id": "36ef4b57"
      },
      "outputs": [],
      "source": [
        "x_train,x_val,y_train,y_val = train_test_split(X_train_subset, Y_train_subset, test_size = 0.2)\n",
        "\n",
        "\n",
        "\n",
        "\n",
        "\n"
      ],
      "id": "36ef4b57"
    },
    {
      "cell_type": "markdown",
      "metadata": {
        "id": "d0f8e303"
      },
      "source": [
        "##  Onehot encoding of the outputs"
      ],
      "id": "d0f8e303"
    },
    {
      "cell_type": "code",
      "execution_count": 24,
      "metadata": {
        "id": "ddb185d1"
      },
      "outputs": [],
      "source": [
        "y_train = to_categorical(y_train, num_classes = 100)\n",
        "y_val = to_categorical(y_val, num_classes = 100)\n",
        "y_test = to_categorical(Y_test, num_classes = 100)"
      ],
      "id": "ddb185d1"
    },
    {
      "cell_type": "code",
      "execution_count": 25,
      "metadata": {
        "id": "64fa4030"
      },
      "outputs": [],
      "source": [
        "x_train = x_train * 1.0/255\n",
        "x_val = x_val * 1.0/255\n",
        "X_test_subset = X_test_subset * 1.0/255\n",
        "\n"
      ],
      "id": "64fa4030"
    },
    {
      "cell_type": "code",
      "execution_count": 26,
      "metadata": {
        "colab": {
          "base_uri": "https://localhost:8080/"
        },
        "id": "e1945410",
        "outputId": "49a9ad24-15fb-421b-86a1-3bb618f5c42c"
      },
      "outputs": [
        {
          "output_type": "stream",
          "name": "stdout",
          "text": [
            "(40000, 32, 32, 3) (10000, 32, 32, 3) (10000, 32, 32, 3)\n",
            "(40000, 100) (10000, 100) (10000, 100)\n"
          ]
        }
      ],
      "source": [
        "print(x_train.shape, x_val.shape, X_test.shape)\n",
        "print(y_train.shape, y_val.shape, y_test.shape)"
      ],
      "id": "e1945410"
    },
    {
      "cell_type": "markdown",
      "metadata": {
        "id": "ae1e230d"
      },
      "source": [
        "##  Image Data Augmentation"
      ],
      "id": "ae1e230d"
    },
    {
      "cell_type": "code",
      "execution_count": 27,
      "metadata": {
        "id": "nMuetV0Zodzw"
      },
      "outputs": [],
      "source": [
        "def model_performance(history):\n",
        "        # Plots\n",
        "        plt.figure(figsize=(20, 4))\n",
        "\n",
        "        # plot accuracy\n",
        "        plt.subplot(1, 3, 1)\n",
        "        plt.plot(history.history['accuracy'], label='Training Accuracy')\n",
        "        plt.plot(history.history['val_accuracy'], label='Validation Accuracy')\n",
        "        plt.xlabel('Epochs')\n",
        "        plt.ylabel('Accuracy')\n",
        "        plt.ylim(0, 1)\n",
        "        plt.legend()\n",
        "\n",
        "        # plot loss\n",
        "        plt.subplot(1, 3, 2)\n",
        "        plt.plot(history.history['loss'], label='Training Loss')\n",
        "        plt.plot(history.history['val_loss'], label='Validation Loss')\n",
        "        plt.xlabel('Epochs')\n",
        "        plt.ylabel('Loss')\n",
        "        plt.legend()\n",
        "\n",
        "        # plot learning rate changes\n",
        "        plt.subplot(1, 3, 3)\n",
        "        plt.plot(history.history['lr'], label='Learning Rate')\n",
        "        plt.xlabel('Epochs')\n",
        "        plt.ylabel('Learning Rate')\n",
        "        plt.title('Learning Rate Changes')\n",
        "        plt.legend()\n",
        "\n",
        "        plt.tight_layout()\n",
        "        plt.show()\n",
        "\n",
        "        # Training Data\n",
        "        final_train_accuracy = history.history['accuracy'][-1]\n",
        "        final_train_loss = history.history['loss'][-1]\n",
        "        print('Training Performance:')\n",
        "        print(f\"Accuracy: {round(final_train_accuracy*100, 2)}%\")\n",
        "        print(f\"Loss: {round(final_train_loss, 4)}\")\n",
        "\n",
        "        # Validation Data\n",
        "        final_val_accuracy = history.history['val_accuracy'][-1]\n",
        "        final_val_loss = history.history['val_loss'][-1]\n",
        "        print('\\nValidation Performance:')\n",
        "        print(f\"Accuracy: {round(final_val_accuracy*100, 2)}%\")\n",
        "        print(f\"Loss: {round(final_val_loss, 4)}\")\n",
        "\n",
        "# model_performance(hist)"
      ],
      "id": "nMuetV0Zodzw"
    },
    {
      "cell_type": "code",
      "execution_count": 28,
      "metadata": {
        "id": "3deb17d7"
      },
      "outputs": [],
      "source": [
        "train_datagen = ImageDataGenerator(\n",
        "        rotation_range = 10,\n",
        "        zoom_range = 0.1,\n",
        "        width_shift_range = 0.1,\n",
        "        height_shift_range = 0.1,\n",
        "        shear_range = 0.1,\n",
        "        horizontal_flip = True,\n",
        "        vertical_flip = False\n",
        "        )\n",
        "train_datagen.fit(x_train)"
      ],
      "id": "3deb17d7"
    },
    {
      "cell_type": "markdown",
      "metadata": {
        "id": "ec6b69ad"
      },
      "source": [
        "##  Reduce Learning Rate if accuracy is not improving for 3 epochs"
      ],
      "id": "ec6b69ad"
    },
    {
      "cell_type": "code",
      "execution_count": 29,
      "metadata": {
        "id": "72eb433c"
      },
      "outputs": [],
      "source": [
        "from keras.callbacks import ReduceLROnPlateau\n",
        "learning_rate_reduction = ReduceLROnPlateau(\n",
        "    monitor='val_accuracy',\n",
        "    patience=3,\n",
        "    verbose=1,\n",
        "    factor=0.6,\n",
        "    min_lr=1e-6)"
      ],
      "id": "72eb433c"
    },
    {
      "cell_type": "markdown",
      "metadata": {
        "id": "5466e858"
      },
      "source": [
        "##  Importing the Resnet Model"
      ],
      "id": "5466e858"
    },
    {
      "cell_type": "code",
      "execution_count": 30,
      "metadata": {
        "id": "617e615b"
      },
      "outputs": [],
      "source": [
        "from tensorflow.keras.applications.resnet50 import ResNet50\n",
        "resnet_model = ResNet50(\n",
        "    include_top = False,\n",
        "    weights = 'imagenet',\n",
        "    input_shape = (224,224,3)\n",
        ")\n",
        "\n",
        "for layer in resnet_model.layers:\n",
        "    if isinstance(layer, BatchNormalization):\n",
        "        layer.trainable = True\n",
        "    else:\n",
        "        layer.trainable = False"
      ],
      "id": "617e615b"
    },
    {
      "cell_type": "code",
      "execution_count": 31,
      "metadata": {
        "id": "076e9d9c",
        "colab": {
          "base_uri": "https://localhost:8080/"
        },
        "outputId": "a3cbce2b-3baf-43c3-c39e-b2b92d5bf3eb"
      },
      "outputs": [
        {
          "output_type": "stream",
          "name": "stdout",
          "text": [
            "Model: \"resnet50\"\n",
            "__________________________________________________________________________________________________\n",
            " Layer (type)                Output Shape                 Param #   Connected to                  \n",
            "==================================================================================================\n",
            " input_2 (InputLayer)        [(None, 224, 224, 3)]        0         []                            \n",
            "                                                                                                  \n",
            " conv1_pad (ZeroPadding2D)   (None, 230, 230, 3)          0         ['input_2[0][0]']             \n",
            "                                                                                                  \n",
            " conv1_conv (Conv2D)         (None, 112, 112, 64)         9472      ['conv1_pad[0][0]']           \n",
            "                                                                                                  \n",
            " conv1_bn (BatchNormalizati  (None, 112, 112, 64)         256       ['conv1_conv[0][0]']          \n",
            " on)                                                                                              \n",
            "                                                                                                  \n",
            " conv1_relu (Activation)     (None, 112, 112, 64)         0         ['conv1_bn[0][0]']            \n",
            "                                                                                                  \n",
            " pool1_pad (ZeroPadding2D)   (None, 114, 114, 64)         0         ['conv1_relu[0][0]']          \n",
            "                                                                                                  \n",
            " pool1_pool (MaxPooling2D)   (None, 56, 56, 64)           0         ['pool1_pad[0][0]']           \n",
            "                                                                                                  \n",
            " conv2_block1_1_conv (Conv2  (None, 56, 56, 64)           4160      ['pool1_pool[0][0]']          \n",
            " D)                                                                                               \n",
            "                                                                                                  \n",
            " conv2_block1_1_bn (BatchNo  (None, 56, 56, 64)           256       ['conv2_block1_1_conv[0][0]'] \n",
            " rmalization)                                                                                     \n",
            "                                                                                                  \n",
            " conv2_block1_1_relu (Activ  (None, 56, 56, 64)           0         ['conv2_block1_1_bn[0][0]']   \n",
            " ation)                                                                                           \n",
            "                                                                                                  \n",
            " conv2_block1_2_conv (Conv2  (None, 56, 56, 64)           36928     ['conv2_block1_1_relu[0][0]'] \n",
            " D)                                                                                               \n",
            "                                                                                                  \n",
            " conv2_block1_2_bn (BatchNo  (None, 56, 56, 64)           256       ['conv2_block1_2_conv[0][0]'] \n",
            " rmalization)                                                                                     \n",
            "                                                                                                  \n",
            " conv2_block1_2_relu (Activ  (None, 56, 56, 64)           0         ['conv2_block1_2_bn[0][0]']   \n",
            " ation)                                                                                           \n",
            "                                                                                                  \n",
            " conv2_block1_0_conv (Conv2  (None, 56, 56, 256)          16640     ['pool1_pool[0][0]']          \n",
            " D)                                                                                               \n",
            "                                                                                                  \n",
            " conv2_block1_3_conv (Conv2  (None, 56, 56, 256)          16640     ['conv2_block1_2_relu[0][0]'] \n",
            " D)                                                                                               \n",
            "                                                                                                  \n",
            " conv2_block1_0_bn (BatchNo  (None, 56, 56, 256)          1024      ['conv2_block1_0_conv[0][0]'] \n",
            " rmalization)                                                                                     \n",
            "                                                                                                  \n",
            " conv2_block1_3_bn (BatchNo  (None, 56, 56, 256)          1024      ['conv2_block1_3_conv[0][0]'] \n",
            " rmalization)                                                                                     \n",
            "                                                                                                  \n",
            " conv2_block1_add (Add)      (None, 56, 56, 256)          0         ['conv2_block1_0_bn[0][0]',   \n",
            "                                                                     'conv2_block1_3_bn[0][0]']   \n",
            "                                                                                                  \n",
            " conv2_block1_out (Activati  (None, 56, 56, 256)          0         ['conv2_block1_add[0][0]']    \n",
            " on)                                                                                              \n",
            "                                                                                                  \n",
            " conv2_block2_1_conv (Conv2  (None, 56, 56, 64)           16448     ['conv2_block1_out[0][0]']    \n",
            " D)                                                                                               \n",
            "                                                                                                  \n",
            " conv2_block2_1_bn (BatchNo  (None, 56, 56, 64)           256       ['conv2_block2_1_conv[0][0]'] \n",
            " rmalization)                                                                                     \n",
            "                                                                                                  \n",
            " conv2_block2_1_relu (Activ  (None, 56, 56, 64)           0         ['conv2_block2_1_bn[0][0]']   \n",
            " ation)                                                                                           \n",
            "                                                                                                  \n",
            " conv2_block2_2_conv (Conv2  (None, 56, 56, 64)           36928     ['conv2_block2_1_relu[0][0]'] \n",
            " D)                                                                                               \n",
            "                                                                                                  \n",
            " conv2_block2_2_bn (BatchNo  (None, 56, 56, 64)           256       ['conv2_block2_2_conv[0][0]'] \n",
            " rmalization)                                                                                     \n",
            "                                                                                                  \n",
            " conv2_block2_2_relu (Activ  (None, 56, 56, 64)           0         ['conv2_block2_2_bn[0][0]']   \n",
            " ation)                                                                                           \n",
            "                                                                                                  \n",
            " conv2_block2_3_conv (Conv2  (None, 56, 56, 256)          16640     ['conv2_block2_2_relu[0][0]'] \n",
            " D)                                                                                               \n",
            "                                                                                                  \n",
            " conv2_block2_3_bn (BatchNo  (None, 56, 56, 256)          1024      ['conv2_block2_3_conv[0][0]'] \n",
            " rmalization)                                                                                     \n",
            "                                                                                                  \n",
            " conv2_block2_add (Add)      (None, 56, 56, 256)          0         ['conv2_block1_out[0][0]',    \n",
            "                                                                     'conv2_block2_3_bn[0][0]']   \n",
            "                                                                                                  \n",
            " conv2_block2_out (Activati  (None, 56, 56, 256)          0         ['conv2_block2_add[0][0]']    \n",
            " on)                                                                                              \n",
            "                                                                                                  \n",
            " conv2_block3_1_conv (Conv2  (None, 56, 56, 64)           16448     ['conv2_block2_out[0][0]']    \n",
            " D)                                                                                               \n",
            "                                                                                                  \n",
            " conv2_block3_1_bn (BatchNo  (None, 56, 56, 64)           256       ['conv2_block3_1_conv[0][0]'] \n",
            " rmalization)                                                                                     \n",
            "                                                                                                  \n",
            " conv2_block3_1_relu (Activ  (None, 56, 56, 64)           0         ['conv2_block3_1_bn[0][0]']   \n",
            " ation)                                                                                           \n",
            "                                                                                                  \n",
            " conv2_block3_2_conv (Conv2  (None, 56, 56, 64)           36928     ['conv2_block3_1_relu[0][0]'] \n",
            " D)                                                                                               \n",
            "                                                                                                  \n",
            " conv2_block3_2_bn (BatchNo  (None, 56, 56, 64)           256       ['conv2_block3_2_conv[0][0]'] \n",
            " rmalization)                                                                                     \n",
            "                                                                                                  \n",
            " conv2_block3_2_relu (Activ  (None, 56, 56, 64)           0         ['conv2_block3_2_bn[0][0]']   \n",
            " ation)                                                                                           \n",
            "                                                                                                  \n",
            " conv2_block3_3_conv (Conv2  (None, 56, 56, 256)          16640     ['conv2_block3_2_relu[0][0]'] \n",
            " D)                                                                                               \n",
            "                                                                                                  \n",
            " conv2_block3_3_bn (BatchNo  (None, 56, 56, 256)          1024      ['conv2_block3_3_conv[0][0]'] \n",
            " rmalization)                                                                                     \n",
            "                                                                                                  \n",
            " conv2_block3_add (Add)      (None, 56, 56, 256)          0         ['conv2_block2_out[0][0]',    \n",
            "                                                                     'conv2_block3_3_bn[0][0]']   \n",
            "                                                                                                  \n",
            " conv2_block3_out (Activati  (None, 56, 56, 256)          0         ['conv2_block3_add[0][0]']    \n",
            " on)                                                                                              \n",
            "                                                                                                  \n",
            " conv3_block1_1_conv (Conv2  (None, 28, 28, 128)          32896     ['conv2_block3_out[0][0]']    \n",
            " D)                                                                                               \n",
            "                                                                                                  \n",
            " conv3_block1_1_bn (BatchNo  (None, 28, 28, 128)          512       ['conv3_block1_1_conv[0][0]'] \n",
            " rmalization)                                                                                     \n",
            "                                                                                                  \n",
            " conv3_block1_1_relu (Activ  (None, 28, 28, 128)          0         ['conv3_block1_1_bn[0][0]']   \n",
            " ation)                                                                                           \n",
            "                                                                                                  \n",
            " conv3_block1_2_conv (Conv2  (None, 28, 28, 128)          147584    ['conv3_block1_1_relu[0][0]'] \n",
            " D)                                                                                               \n",
            "                                                                                                  \n",
            " conv3_block1_2_bn (BatchNo  (None, 28, 28, 128)          512       ['conv3_block1_2_conv[0][0]'] \n",
            " rmalization)                                                                                     \n",
            "                                                                                                  \n",
            " conv3_block1_2_relu (Activ  (None, 28, 28, 128)          0         ['conv3_block1_2_bn[0][0]']   \n",
            " ation)                                                                                           \n",
            "                                                                                                  \n",
            " conv3_block1_0_conv (Conv2  (None, 28, 28, 512)          131584    ['conv2_block3_out[0][0]']    \n",
            " D)                                                                                               \n",
            "                                                                                                  \n",
            " conv3_block1_3_conv (Conv2  (None, 28, 28, 512)          66048     ['conv3_block1_2_relu[0][0]'] \n",
            " D)                                                                                               \n",
            "                                                                                                  \n",
            " conv3_block1_0_bn (BatchNo  (None, 28, 28, 512)          2048      ['conv3_block1_0_conv[0][0]'] \n",
            " rmalization)                                                                                     \n",
            "                                                                                                  \n",
            " conv3_block1_3_bn (BatchNo  (None, 28, 28, 512)          2048      ['conv3_block1_3_conv[0][0]'] \n",
            " rmalization)                                                                                     \n",
            "                                                                                                  \n",
            " conv3_block1_add (Add)      (None, 28, 28, 512)          0         ['conv3_block1_0_bn[0][0]',   \n",
            "                                                                     'conv3_block1_3_bn[0][0]']   \n",
            "                                                                                                  \n",
            " conv3_block1_out (Activati  (None, 28, 28, 512)          0         ['conv3_block1_add[0][0]']    \n",
            " on)                                                                                              \n",
            "                                                                                                  \n",
            " conv3_block2_1_conv (Conv2  (None, 28, 28, 128)          65664     ['conv3_block1_out[0][0]']    \n",
            " D)                                                                                               \n",
            "                                                                                                  \n",
            " conv3_block2_1_bn (BatchNo  (None, 28, 28, 128)          512       ['conv3_block2_1_conv[0][0]'] \n",
            " rmalization)                                                                                     \n",
            "                                                                                                  \n",
            " conv3_block2_1_relu (Activ  (None, 28, 28, 128)          0         ['conv3_block2_1_bn[0][0]']   \n",
            " ation)                                                                                           \n",
            "                                                                                                  \n",
            " conv3_block2_2_conv (Conv2  (None, 28, 28, 128)          147584    ['conv3_block2_1_relu[0][0]'] \n",
            " D)                                                                                               \n",
            "                                                                                                  \n",
            " conv3_block2_2_bn (BatchNo  (None, 28, 28, 128)          512       ['conv3_block2_2_conv[0][0]'] \n",
            " rmalization)                                                                                     \n",
            "                                                                                                  \n",
            " conv3_block2_2_relu (Activ  (None, 28, 28, 128)          0         ['conv3_block2_2_bn[0][0]']   \n",
            " ation)                                                                                           \n",
            "                                                                                                  \n",
            " conv3_block2_3_conv (Conv2  (None, 28, 28, 512)          66048     ['conv3_block2_2_relu[0][0]'] \n",
            " D)                                                                                               \n",
            "                                                                                                  \n",
            " conv3_block2_3_bn (BatchNo  (None, 28, 28, 512)          2048      ['conv3_block2_3_conv[0][0]'] \n",
            " rmalization)                                                                                     \n",
            "                                                                                                  \n",
            " conv3_block2_add (Add)      (None, 28, 28, 512)          0         ['conv3_block1_out[0][0]',    \n",
            "                                                                     'conv3_block2_3_bn[0][0]']   \n",
            "                                                                                                  \n",
            " conv3_block2_out (Activati  (None, 28, 28, 512)          0         ['conv3_block2_add[0][0]']    \n",
            " on)                                                                                              \n",
            "                                                                                                  \n",
            " conv3_block3_1_conv (Conv2  (None, 28, 28, 128)          65664     ['conv3_block2_out[0][0]']    \n",
            " D)                                                                                               \n",
            "                                                                                                  \n",
            " conv3_block3_1_bn (BatchNo  (None, 28, 28, 128)          512       ['conv3_block3_1_conv[0][0]'] \n",
            " rmalization)                                                                                     \n",
            "                                                                                                  \n",
            " conv3_block3_1_relu (Activ  (None, 28, 28, 128)          0         ['conv3_block3_1_bn[0][0]']   \n",
            " ation)                                                                                           \n",
            "                                                                                                  \n",
            " conv3_block3_2_conv (Conv2  (None, 28, 28, 128)          147584    ['conv3_block3_1_relu[0][0]'] \n",
            " D)                                                                                               \n",
            "                                                                                                  \n",
            " conv3_block3_2_bn (BatchNo  (None, 28, 28, 128)          512       ['conv3_block3_2_conv[0][0]'] \n",
            " rmalization)                                                                                     \n",
            "                                                                                                  \n",
            " conv3_block3_2_relu (Activ  (None, 28, 28, 128)          0         ['conv3_block3_2_bn[0][0]']   \n",
            " ation)                                                                                           \n",
            "                                                                                                  \n",
            " conv3_block3_3_conv (Conv2  (None, 28, 28, 512)          66048     ['conv3_block3_2_relu[0][0]'] \n",
            " D)                                                                                               \n",
            "                                                                                                  \n",
            " conv3_block3_3_bn (BatchNo  (None, 28, 28, 512)          2048      ['conv3_block3_3_conv[0][0]'] \n",
            " rmalization)                                                                                     \n",
            "                                                                                                  \n",
            " conv3_block3_add (Add)      (None, 28, 28, 512)          0         ['conv3_block2_out[0][0]',    \n",
            "                                                                     'conv3_block3_3_bn[0][0]']   \n",
            "                                                                                                  \n",
            " conv3_block3_out (Activati  (None, 28, 28, 512)          0         ['conv3_block3_add[0][0]']    \n",
            " on)                                                                                              \n",
            "                                                                                                  \n",
            " conv3_block4_1_conv (Conv2  (None, 28, 28, 128)          65664     ['conv3_block3_out[0][0]']    \n",
            " D)                                                                                               \n",
            "                                                                                                  \n",
            " conv3_block4_1_bn (BatchNo  (None, 28, 28, 128)          512       ['conv3_block4_1_conv[0][0]'] \n",
            " rmalization)                                                                                     \n",
            "                                                                                                  \n",
            " conv3_block4_1_relu (Activ  (None, 28, 28, 128)          0         ['conv3_block4_1_bn[0][0]']   \n",
            " ation)                                                                                           \n",
            "                                                                                                  \n",
            " conv3_block4_2_conv (Conv2  (None, 28, 28, 128)          147584    ['conv3_block4_1_relu[0][0]'] \n",
            " D)                                                                                               \n",
            "                                                                                                  \n",
            " conv3_block4_2_bn (BatchNo  (None, 28, 28, 128)          512       ['conv3_block4_2_conv[0][0]'] \n",
            " rmalization)                                                                                     \n",
            "                                                                                                  \n",
            " conv3_block4_2_relu (Activ  (None, 28, 28, 128)          0         ['conv3_block4_2_bn[0][0]']   \n",
            " ation)                                                                                           \n",
            "                                                                                                  \n",
            " conv3_block4_3_conv (Conv2  (None, 28, 28, 512)          66048     ['conv3_block4_2_relu[0][0]'] \n",
            " D)                                                                                               \n",
            "                                                                                                  \n",
            " conv3_block4_3_bn (BatchNo  (None, 28, 28, 512)          2048      ['conv3_block4_3_conv[0][0]'] \n",
            " rmalization)                                                                                     \n",
            "                                                                                                  \n",
            " conv3_block4_add (Add)      (None, 28, 28, 512)          0         ['conv3_block3_out[0][0]',    \n",
            "                                                                     'conv3_block4_3_bn[0][0]']   \n",
            "                                                                                                  \n",
            " conv3_block4_out (Activati  (None, 28, 28, 512)          0         ['conv3_block4_add[0][0]']    \n",
            " on)                                                                                              \n",
            "                                                                                                  \n",
            " conv4_block1_1_conv (Conv2  (None, 14, 14, 256)          131328    ['conv3_block4_out[0][0]']    \n",
            " D)                                                                                               \n",
            "                                                                                                  \n",
            " conv4_block1_1_bn (BatchNo  (None, 14, 14, 256)          1024      ['conv4_block1_1_conv[0][0]'] \n",
            " rmalization)                                                                                     \n",
            "                                                                                                  \n",
            " conv4_block1_1_relu (Activ  (None, 14, 14, 256)          0         ['conv4_block1_1_bn[0][0]']   \n",
            " ation)                                                                                           \n",
            "                                                                                                  \n",
            " conv4_block1_2_conv (Conv2  (None, 14, 14, 256)          590080    ['conv4_block1_1_relu[0][0]'] \n",
            " D)                                                                                               \n",
            "                                                                                                  \n",
            " conv4_block1_2_bn (BatchNo  (None, 14, 14, 256)          1024      ['conv4_block1_2_conv[0][0]'] \n",
            " rmalization)                                                                                     \n",
            "                                                                                                  \n",
            " conv4_block1_2_relu (Activ  (None, 14, 14, 256)          0         ['conv4_block1_2_bn[0][0]']   \n",
            " ation)                                                                                           \n",
            "                                                                                                  \n",
            " conv4_block1_0_conv (Conv2  (None, 14, 14, 1024)         525312    ['conv3_block4_out[0][0]']    \n",
            " D)                                                                                               \n",
            "                                                                                                  \n",
            " conv4_block1_3_conv (Conv2  (None, 14, 14, 1024)         263168    ['conv4_block1_2_relu[0][0]'] \n",
            " D)                                                                                               \n",
            "                                                                                                  \n",
            " conv4_block1_0_bn (BatchNo  (None, 14, 14, 1024)         4096      ['conv4_block1_0_conv[0][0]'] \n",
            " rmalization)                                                                                     \n",
            "                                                                                                  \n",
            " conv4_block1_3_bn (BatchNo  (None, 14, 14, 1024)         4096      ['conv4_block1_3_conv[0][0]'] \n",
            " rmalization)                                                                                     \n",
            "                                                                                                  \n",
            " conv4_block1_add (Add)      (None, 14, 14, 1024)         0         ['conv4_block1_0_bn[0][0]',   \n",
            "                                                                     'conv4_block1_3_bn[0][0]']   \n",
            "                                                                                                  \n",
            " conv4_block1_out (Activati  (None, 14, 14, 1024)         0         ['conv4_block1_add[0][0]']    \n",
            " on)                                                                                              \n",
            "                                                                                                  \n",
            " conv4_block2_1_conv (Conv2  (None, 14, 14, 256)          262400    ['conv4_block1_out[0][0]']    \n",
            " D)                                                                                               \n",
            "                                                                                                  \n",
            " conv4_block2_1_bn (BatchNo  (None, 14, 14, 256)          1024      ['conv4_block2_1_conv[0][0]'] \n",
            " rmalization)                                                                                     \n",
            "                                                                                                  \n",
            " conv4_block2_1_relu (Activ  (None, 14, 14, 256)          0         ['conv4_block2_1_bn[0][0]']   \n",
            " ation)                                                                                           \n",
            "                                                                                                  \n",
            " conv4_block2_2_conv (Conv2  (None, 14, 14, 256)          590080    ['conv4_block2_1_relu[0][0]'] \n",
            " D)                                                                                               \n",
            "                                                                                                  \n",
            " conv4_block2_2_bn (BatchNo  (None, 14, 14, 256)          1024      ['conv4_block2_2_conv[0][0]'] \n",
            " rmalization)                                                                                     \n",
            "                                                                                                  \n",
            " conv4_block2_2_relu (Activ  (None, 14, 14, 256)          0         ['conv4_block2_2_bn[0][0]']   \n",
            " ation)                                                                                           \n",
            "                                                                                                  \n",
            " conv4_block2_3_conv (Conv2  (None, 14, 14, 1024)         263168    ['conv4_block2_2_relu[0][0]'] \n",
            " D)                                                                                               \n",
            "                                                                                                  \n",
            " conv4_block2_3_bn (BatchNo  (None, 14, 14, 1024)         4096      ['conv4_block2_3_conv[0][0]'] \n",
            " rmalization)                                                                                     \n",
            "                                                                                                  \n",
            " conv4_block2_add (Add)      (None, 14, 14, 1024)         0         ['conv4_block1_out[0][0]',    \n",
            "                                                                     'conv4_block2_3_bn[0][0]']   \n",
            "                                                                                                  \n",
            " conv4_block2_out (Activati  (None, 14, 14, 1024)         0         ['conv4_block2_add[0][0]']    \n",
            " on)                                                                                              \n",
            "                                                                                                  \n",
            " conv4_block3_1_conv (Conv2  (None, 14, 14, 256)          262400    ['conv4_block2_out[0][0]']    \n",
            " D)                                                                                               \n",
            "                                                                                                  \n",
            " conv4_block3_1_bn (BatchNo  (None, 14, 14, 256)          1024      ['conv4_block3_1_conv[0][0]'] \n",
            " rmalization)                                                                                     \n",
            "                                                                                                  \n",
            " conv4_block3_1_relu (Activ  (None, 14, 14, 256)          0         ['conv4_block3_1_bn[0][0]']   \n",
            " ation)                                                                                           \n",
            "                                                                                                  \n",
            " conv4_block3_2_conv (Conv2  (None, 14, 14, 256)          590080    ['conv4_block3_1_relu[0][0]'] \n",
            " D)                                                                                               \n",
            "                                                                                                  \n",
            " conv4_block3_2_bn (BatchNo  (None, 14, 14, 256)          1024      ['conv4_block3_2_conv[0][0]'] \n",
            " rmalization)                                                                                     \n",
            "                                                                                                  \n",
            " conv4_block3_2_relu (Activ  (None, 14, 14, 256)          0         ['conv4_block3_2_bn[0][0]']   \n",
            " ation)                                                                                           \n",
            "                                                                                                  \n",
            " conv4_block3_3_conv (Conv2  (None, 14, 14, 1024)         263168    ['conv4_block3_2_relu[0][0]'] \n",
            " D)                                                                                               \n",
            "                                                                                                  \n",
            " conv4_block3_3_bn (BatchNo  (None, 14, 14, 1024)         4096      ['conv4_block3_3_conv[0][0]'] \n",
            " rmalization)                                                                                     \n",
            "                                                                                                  \n",
            " conv4_block3_add (Add)      (None, 14, 14, 1024)         0         ['conv4_block2_out[0][0]',    \n",
            "                                                                     'conv4_block3_3_bn[0][0]']   \n",
            "                                                                                                  \n",
            " conv4_block3_out (Activati  (None, 14, 14, 1024)         0         ['conv4_block3_add[0][0]']    \n",
            " on)                                                                                              \n",
            "                                                                                                  \n",
            " conv4_block4_1_conv (Conv2  (None, 14, 14, 256)          262400    ['conv4_block3_out[0][0]']    \n",
            " D)                                                                                               \n",
            "                                                                                                  \n",
            " conv4_block4_1_bn (BatchNo  (None, 14, 14, 256)          1024      ['conv4_block4_1_conv[0][0]'] \n",
            " rmalization)                                                                                     \n",
            "                                                                                                  \n",
            " conv4_block4_1_relu (Activ  (None, 14, 14, 256)          0         ['conv4_block4_1_bn[0][0]']   \n",
            " ation)                                                                                           \n",
            "                                                                                                  \n",
            " conv4_block4_2_conv (Conv2  (None, 14, 14, 256)          590080    ['conv4_block4_1_relu[0][0]'] \n",
            " D)                                                                                               \n",
            "                                                                                                  \n",
            " conv4_block4_2_bn (BatchNo  (None, 14, 14, 256)          1024      ['conv4_block4_2_conv[0][0]'] \n",
            " rmalization)                                                                                     \n",
            "                                                                                                  \n",
            " conv4_block4_2_relu (Activ  (None, 14, 14, 256)          0         ['conv4_block4_2_bn[0][0]']   \n",
            " ation)                                                                                           \n",
            "                                                                                                  \n",
            " conv4_block4_3_conv (Conv2  (None, 14, 14, 1024)         263168    ['conv4_block4_2_relu[0][0]'] \n",
            " D)                                                                                               \n",
            "                                                                                                  \n",
            " conv4_block4_3_bn (BatchNo  (None, 14, 14, 1024)         4096      ['conv4_block4_3_conv[0][0]'] \n",
            " rmalization)                                                                                     \n",
            "                                                                                                  \n",
            " conv4_block4_add (Add)      (None, 14, 14, 1024)         0         ['conv4_block3_out[0][0]',    \n",
            "                                                                     'conv4_block4_3_bn[0][0]']   \n",
            "                                                                                                  \n",
            " conv4_block4_out (Activati  (None, 14, 14, 1024)         0         ['conv4_block4_add[0][0]']    \n",
            " on)                                                                                              \n",
            "                                                                                                  \n",
            " conv4_block5_1_conv (Conv2  (None, 14, 14, 256)          262400    ['conv4_block4_out[0][0]']    \n",
            " D)                                                                                               \n",
            "                                                                                                  \n",
            " conv4_block5_1_bn (BatchNo  (None, 14, 14, 256)          1024      ['conv4_block5_1_conv[0][0]'] \n",
            " rmalization)                                                                                     \n",
            "                                                                                                  \n",
            " conv4_block5_1_relu (Activ  (None, 14, 14, 256)          0         ['conv4_block5_1_bn[0][0]']   \n",
            " ation)                                                                                           \n",
            "                                                                                                  \n",
            " conv4_block5_2_conv (Conv2  (None, 14, 14, 256)          590080    ['conv4_block5_1_relu[0][0]'] \n",
            " D)                                                                                               \n",
            "                                                                                                  \n",
            " conv4_block5_2_bn (BatchNo  (None, 14, 14, 256)          1024      ['conv4_block5_2_conv[0][0]'] \n",
            " rmalization)                                                                                     \n",
            "                                                                                                  \n",
            " conv4_block5_2_relu (Activ  (None, 14, 14, 256)          0         ['conv4_block5_2_bn[0][0]']   \n",
            " ation)                                                                                           \n",
            "                                                                                                  \n",
            " conv4_block5_3_conv (Conv2  (None, 14, 14, 1024)         263168    ['conv4_block5_2_relu[0][0]'] \n",
            " D)                                                                                               \n",
            "                                                                                                  \n",
            " conv4_block5_3_bn (BatchNo  (None, 14, 14, 1024)         4096      ['conv4_block5_3_conv[0][0]'] \n",
            " rmalization)                                                                                     \n",
            "                                                                                                  \n",
            " conv4_block5_add (Add)      (None, 14, 14, 1024)         0         ['conv4_block4_out[0][0]',    \n",
            "                                                                     'conv4_block5_3_bn[0][0]']   \n",
            "                                                                                                  \n",
            " conv4_block5_out (Activati  (None, 14, 14, 1024)         0         ['conv4_block5_add[0][0]']    \n",
            " on)                                                                                              \n",
            "                                                                                                  \n",
            " conv4_block6_1_conv (Conv2  (None, 14, 14, 256)          262400    ['conv4_block5_out[0][0]']    \n",
            " D)                                                                                               \n",
            "                                                                                                  \n",
            " conv4_block6_1_bn (BatchNo  (None, 14, 14, 256)          1024      ['conv4_block6_1_conv[0][0]'] \n",
            " rmalization)                                                                                     \n",
            "                                                                                                  \n",
            " conv4_block6_1_relu (Activ  (None, 14, 14, 256)          0         ['conv4_block6_1_bn[0][0]']   \n",
            " ation)                                                                                           \n",
            "                                                                                                  \n",
            " conv4_block6_2_conv (Conv2  (None, 14, 14, 256)          590080    ['conv4_block6_1_relu[0][0]'] \n",
            " D)                                                                                               \n",
            "                                                                                                  \n",
            " conv4_block6_2_bn (BatchNo  (None, 14, 14, 256)          1024      ['conv4_block6_2_conv[0][0]'] \n",
            " rmalization)                                                                                     \n",
            "                                                                                                  \n",
            " conv4_block6_2_relu (Activ  (None, 14, 14, 256)          0         ['conv4_block6_2_bn[0][0]']   \n",
            " ation)                                                                                           \n",
            "                                                                                                  \n",
            " conv4_block6_3_conv (Conv2  (None, 14, 14, 1024)         263168    ['conv4_block6_2_relu[0][0]'] \n",
            " D)                                                                                               \n",
            "                                                                                                  \n",
            " conv4_block6_3_bn (BatchNo  (None, 14, 14, 1024)         4096      ['conv4_block6_3_conv[0][0]'] \n",
            " rmalization)                                                                                     \n",
            "                                                                                                  \n",
            " conv4_block6_add (Add)      (None, 14, 14, 1024)         0         ['conv4_block5_out[0][0]',    \n",
            "                                                                     'conv4_block6_3_bn[0][0]']   \n",
            "                                                                                                  \n",
            " conv4_block6_out (Activati  (None, 14, 14, 1024)         0         ['conv4_block6_add[0][0]']    \n",
            " on)                                                                                              \n",
            "                                                                                                  \n",
            " conv5_block1_1_conv (Conv2  (None, 7, 7, 512)            524800    ['conv4_block6_out[0][0]']    \n",
            " D)                                                                                               \n",
            "                                                                                                  \n",
            " conv5_block1_1_bn (BatchNo  (None, 7, 7, 512)            2048      ['conv5_block1_1_conv[0][0]'] \n",
            " rmalization)                                                                                     \n",
            "                                                                                                  \n",
            " conv5_block1_1_relu (Activ  (None, 7, 7, 512)            0         ['conv5_block1_1_bn[0][0]']   \n",
            " ation)                                                                                           \n",
            "                                                                                                  \n",
            " conv5_block1_2_conv (Conv2  (None, 7, 7, 512)            2359808   ['conv5_block1_1_relu[0][0]'] \n",
            " D)                                                                                               \n",
            "                                                                                                  \n",
            " conv5_block1_2_bn (BatchNo  (None, 7, 7, 512)            2048      ['conv5_block1_2_conv[0][0]'] \n",
            " rmalization)                                                                                     \n",
            "                                                                                                  \n",
            " conv5_block1_2_relu (Activ  (None, 7, 7, 512)            0         ['conv5_block1_2_bn[0][0]']   \n",
            " ation)                                                                                           \n",
            "                                                                                                  \n",
            " conv5_block1_0_conv (Conv2  (None, 7, 7, 2048)           2099200   ['conv4_block6_out[0][0]']    \n",
            " D)                                                                                               \n",
            "                                                                                                  \n",
            " conv5_block1_3_conv (Conv2  (None, 7, 7, 2048)           1050624   ['conv5_block1_2_relu[0][0]'] \n",
            " D)                                                                                               \n",
            "                                                                                                  \n",
            " conv5_block1_0_bn (BatchNo  (None, 7, 7, 2048)           8192      ['conv5_block1_0_conv[0][0]'] \n",
            " rmalization)                                                                                     \n",
            "                                                                                                  \n",
            " conv5_block1_3_bn (BatchNo  (None, 7, 7, 2048)           8192      ['conv5_block1_3_conv[0][0]'] \n",
            " rmalization)                                                                                     \n",
            "                                                                                                  \n",
            " conv5_block1_add (Add)      (None, 7, 7, 2048)           0         ['conv5_block1_0_bn[0][0]',   \n",
            "                                                                     'conv5_block1_3_bn[0][0]']   \n",
            "                                                                                                  \n",
            " conv5_block1_out (Activati  (None, 7, 7, 2048)           0         ['conv5_block1_add[0][0]']    \n",
            " on)                                                                                              \n",
            "                                                                                                  \n",
            " conv5_block2_1_conv (Conv2  (None, 7, 7, 512)            1049088   ['conv5_block1_out[0][0]']    \n",
            " D)                                                                                               \n",
            "                                                                                                  \n",
            " conv5_block2_1_bn (BatchNo  (None, 7, 7, 512)            2048      ['conv5_block2_1_conv[0][0]'] \n",
            " rmalization)                                                                                     \n",
            "                                                                                                  \n",
            " conv5_block2_1_relu (Activ  (None, 7, 7, 512)            0         ['conv5_block2_1_bn[0][0]']   \n",
            " ation)                                                                                           \n",
            "                                                                                                  \n",
            " conv5_block2_2_conv (Conv2  (None, 7, 7, 512)            2359808   ['conv5_block2_1_relu[0][0]'] \n",
            " D)                                                                                               \n",
            "                                                                                                  \n",
            " conv5_block2_2_bn (BatchNo  (None, 7, 7, 512)            2048      ['conv5_block2_2_conv[0][0]'] \n",
            " rmalization)                                                                                     \n",
            "                                                                                                  \n",
            " conv5_block2_2_relu (Activ  (None, 7, 7, 512)            0         ['conv5_block2_2_bn[0][0]']   \n",
            " ation)                                                                                           \n",
            "                                                                                                  \n",
            " conv5_block2_3_conv (Conv2  (None, 7, 7, 2048)           1050624   ['conv5_block2_2_relu[0][0]'] \n",
            " D)                                                                                               \n",
            "                                                                                                  \n",
            " conv5_block2_3_bn (BatchNo  (None, 7, 7, 2048)           8192      ['conv5_block2_3_conv[0][0]'] \n",
            " rmalization)                                                                                     \n",
            "                                                                                                  \n",
            " conv5_block2_add (Add)      (None, 7, 7, 2048)           0         ['conv5_block1_out[0][0]',    \n",
            "                                                                     'conv5_block2_3_bn[0][0]']   \n",
            "                                                                                                  \n",
            " conv5_block2_out (Activati  (None, 7, 7, 2048)           0         ['conv5_block2_add[0][0]']    \n",
            " on)                                                                                              \n",
            "                                                                                                  \n",
            " conv5_block3_1_conv (Conv2  (None, 7, 7, 512)            1049088   ['conv5_block2_out[0][0]']    \n",
            " D)                                                                                               \n",
            "                                                                                                  \n",
            " conv5_block3_1_bn (BatchNo  (None, 7, 7, 512)            2048      ['conv5_block3_1_conv[0][0]'] \n",
            " rmalization)                                                                                     \n",
            "                                                                                                  \n",
            " conv5_block3_1_relu (Activ  (None, 7, 7, 512)            0         ['conv5_block3_1_bn[0][0]']   \n",
            " ation)                                                                                           \n",
            "                                                                                                  \n",
            " conv5_block3_2_conv (Conv2  (None, 7, 7, 512)            2359808   ['conv5_block3_1_relu[0][0]'] \n",
            " D)                                                                                               \n",
            "                                                                                                  \n",
            " conv5_block3_2_bn (BatchNo  (None, 7, 7, 512)            2048      ['conv5_block3_2_conv[0][0]'] \n",
            " rmalization)                                                                                     \n",
            "                                                                                                  \n",
            " conv5_block3_2_relu (Activ  (None, 7, 7, 512)            0         ['conv5_block3_2_bn[0][0]']   \n",
            " ation)                                                                                           \n",
            "                                                                                                  \n",
            " conv5_block3_3_conv (Conv2  (None, 7, 7, 2048)           1050624   ['conv5_block3_2_relu[0][0]'] \n",
            " D)                                                                                               \n",
            "                                                                                                  \n",
            " conv5_block3_3_bn (BatchNo  (None, 7, 7, 2048)           8192      ['conv5_block3_3_conv[0][0]'] \n",
            " rmalization)                                                                                     \n",
            "                                                                                                  \n",
            " conv5_block3_add (Add)      (None, 7, 7, 2048)           0         ['conv5_block2_out[0][0]',    \n",
            "                                                                     'conv5_block3_3_bn[0][0]']   \n",
            "                                                                                                  \n",
            " conv5_block3_out (Activati  (None, 7, 7, 2048)           0         ['conv5_block3_add[0][0]']    \n",
            " on)                                                                                              \n",
            "                                                                                                  \n",
            "==================================================================================================\n",
            "Total params: 23587712 (89.98 MB)\n",
            "Trainable params: 53120 (207.50 KB)\n",
            "Non-trainable params: 23534592 (89.78 MB)\n",
            "__________________________________________________________________________________________________\n"
          ]
        }
      ],
      "source": [
        "resnet_model.summary()"
      ],
      "id": "076e9d9c"
    },
    {
      "cell_type": "markdown",
      "metadata": {
        "id": "332ed251"
      },
      "source": [
        "##  Converting the output layer as per our dataset"
      ],
      "id": "332ed251"
    },
    {
      "cell_type": "code",
      "execution_count": 32,
      "metadata": {
        "id": "7c27e892"
      },
      "outputs": [],
      "source": [
        "model=tf.keras.models.Sequential()\n",
        "model.add(UpSampling2D(size=(7, 7),interpolation='bilinear'))\n",
        "model.add(resnet_model)\n",
        "model.add(GlobalAveragePooling2D())\n",
        "model.add(Dropout(.25))\n",
        "model.add(Dense(256, activation='relu'))\n",
        "model.add(BatchNormalization())\n",
        "model.add(Dense(100, activation='softmax'))"
      ],
      "id": "7c27e892"
    },
    {
      "cell_type": "markdown",
      "metadata": {
        "id": "47dfda00"
      },
      "source": [
        "### **Issue** : The Cifar images are of the shape 32,32,3 and resnet model is trained on images of 224,224,3\n",
        "\n",
        "### *Solution* : Rezise Images - this is a costly operation and i eventually ran out of memory many a times\n",
        "\n",
        "### **Used Solution** : Keras provides an upsampling layer – called UpSampling2D – which allows to perform upsampling operation within neural networks\n",
        "* ### 32 * 7 = 224\n"
      ],
      "id": "47dfda00"
    },
    {
      "cell_type": "markdown",
      "metadata": {
        "id": "fe06890f"
      },
      "source": [
        "### Stochastic gradient descent optimizer with momentum."
      ],
      "id": "fe06890f"
    },
    {
      "cell_type": "code",
      "execution_count": 33,
      "metadata": {
        "id": "48cca765"
      },
      "outputs": [],
      "source": [
        "optimizer = tf.keras.optimizers.SGD(learning_rate=1e-3, momentum=0.9)"
      ],
      "id": "48cca765"
    },
    {
      "cell_type": "markdown",
      "metadata": {
        "id": "be2456da"
      },
      "source": [
        "Compile the model"
      ],
      "id": "be2456da"
    },
    {
      "cell_type": "code",
      "execution_count": 34,
      "metadata": {
        "id": "b1167114"
      },
      "outputs": [],
      "source": [
        "import datetime\n",
        "\n",
        "model.compile(\n",
        "    optimizer = optimizer,\n",
        "    loss='categorical_crossentropy',\n",
        "    metrics=['accuracy']\n",
        ")\n",
        "\n",
        "logdir = os.path.join(\"logs\", datetime.datetime.now().strftime(\"%Y%m%d-%H%M%S\"))\n",
        "tensorboard_callback = tf.keras.callbacks.TensorBoard(logdir, histogram_freq=1)"
      ],
      "id": "b1167114"
    },
    {
      "cell_type": "markdown",
      "metadata": {
        "id": "1799d7c2"
      },
      "source": [
        "We now Train the model on images. we are also checking to see if validation accuracy doesnt improve we will reduce learning rate though the callback"
      ],
      "id": "1799d7c2"
    },
    {
      "cell_type": "code",
      "execution_count": null,
      "metadata": {
        "colab": {
          "base_uri": "https://localhost:8080/"
        },
        "id": "f8cb87ea",
        "outputId": "3f21e945-6bf0-4b73-a67d-dfe3395802fc"
      },
      "outputs": [
        {
          "metadata": {
            "tags": null
          },
          "name": "stdout",
          "output_type": "stream",
          "text": [
            "2024-03-13 16:31:01.382153\n",
            "Epoch 1/70\n",
            "313/313 [==============================] - 122s 341ms/step - loss: 4.2432 - accuracy: 0.0938 - val_loss: 9.1141 - val_accuracy: 0.0112 - lr: 0.0010\n",
            "Epoch 2/70\n",
            "313/313 [==============================] - 102s 327ms/step - loss: 3.0893 - accuracy: 0.2656 - val_loss: 6.3202 - val_accuracy: 0.0128 - lr: 0.0010\n",
            "Epoch 3/70\n",
            "313/313 [==============================] - 102s 327ms/step - loss: 2.5951 - accuracy: 0.3587 - val_loss: 3.0912 - val_accuracy: 0.2533 - lr: 0.0010\n",
            "Epoch 4/70\n",
            "313/313 [==============================] - 102s 327ms/step - loss: 2.3071 - accuracy: 0.4151 - val_loss: 2.0070 - val_accuracy: 0.4768 - lr: 0.0010\n",
            "Epoch 5/70\n",
            "313/313 [==============================] - 102s 327ms/step - loss: 2.1006 - accuracy: 0.4560 - val_loss: 1.8519 - val_accuracy: 0.5082 - lr: 0.0010\n",
            "Epoch 6/70\n",
            "313/313 [==============================] - 102s 327ms/step - loss: 1.9519 - accuracy: 0.4895 - val_loss: 1.7638 - val_accuracy: 0.5231 - lr: 0.0010\n",
            "Epoch 7/70\n",
            "313/313 [==============================] - 102s 326ms/step - loss: 1.8347 - accuracy: 0.5129 - val_loss: 1.6751 - val_accuracy: 0.5447 - lr: 0.0010\n",
            "Epoch 8/70\n",
            "313/313 [==============================] - 102s 326ms/step - loss: 1.7391 - accuracy: 0.5331 - val_loss: 1.6068 - val_accuracy: 0.5604 - lr: 0.0010\n",
            "Epoch 9/70\n",
            "313/313 [==============================] - 102s 327ms/step - loss: 1.6670 - accuracy: 0.5478 - val_loss: 1.5324 - val_accuracy: 0.5769 - lr: 0.0010\n",
            "Epoch 10/70\n",
            "313/313 [==============================] - 102s 326ms/step - loss: 1.5926 - accuracy: 0.5636 - val_loss: 1.4836 - val_accuracy: 0.5895 - lr: 0.0010\n",
            "Epoch 11/70\n",
            "313/313 [==============================] - 102s 327ms/step - loss: 1.5321 - accuracy: 0.5786 - val_loss: 1.4446 - val_accuracy: 0.5969 - lr: 0.0010\n",
            "Epoch 12/70\n",
            "313/313 [==============================] - 102s 326ms/step - loss: 1.4873 - accuracy: 0.5904 - val_loss: 1.4027 - val_accuracy: 0.6070 - lr: 0.0010\n",
            "Epoch 13/70\n",
            "313/313 [==============================] - 102s 327ms/step - loss: 1.4429 - accuracy: 0.5976 - val_loss: 1.3734 - val_accuracy: 0.6141 - lr: 0.0010\n",
            "Epoch 14/70\n",
            "313/313 [==============================] - 102s 327ms/step - loss: 1.4075 - accuracy: 0.6087 - val_loss: 1.3388 - val_accuracy: 0.6218 - lr: 0.0010\n",
            "Epoch 15/70\n",
            "313/313 [==============================] - 103s 328ms/step - loss: 1.3704 - accuracy: 0.6158 - val_loss: 1.3106 - val_accuracy: 0.6287 - lr: 0.0010\n",
            "Epoch 16/70\n",
            "313/313 [==============================] - 102s 327ms/step - loss: 1.3410 - accuracy: 0.6227 - val_loss: 1.2855 - val_accuracy: 0.6346 - lr: 0.0010\n",
            "Epoch 17/70\n",
            "313/313 [==============================] - 102s 327ms/step - loss: 1.3107 - accuracy: 0.6330 - val_loss: 1.2585 - val_accuracy: 0.6411 - lr: 0.0010\n",
            "Epoch 18/70\n",
            "313/313 [==============================] - 102s 327ms/step - loss: 1.2823 - accuracy: 0.6379 - val_loss: 1.2404 - val_accuracy: 0.6428 - lr: 0.0010\n",
            "Epoch 19/70\n",
            "313/313 [==============================] - 102s 327ms/step - loss: 1.2588 - accuracy: 0.6443 - val_loss: 1.2244 - val_accuracy: 0.6500 - lr: 0.0010\n",
            "Epoch 20/70\n",
            "313/313 [==============================] - 102s 327ms/step - loss: 1.2278 - accuracy: 0.6497 - val_loss: 1.2060 - val_accuracy: 0.6538 - lr: 0.0010\n",
            "Epoch 21/70\n",
            "313/313 [==============================] - 102s 327ms/step - loss: 1.2093 - accuracy: 0.6561 - val_loss: 1.1897 - val_accuracy: 0.6595 - lr: 0.0010\n",
            "Epoch 22/70\n",
            "313/313 [==============================] - 102s 326ms/step - loss: 1.1925 - accuracy: 0.6602 - val_loss: 1.1773 - val_accuracy: 0.6608 - lr: 0.0010\n",
            "Epoch 23/70\n",
            "313/313 [==============================] - 102s 326ms/step - loss: 1.1747 - accuracy: 0.6644 - val_loss: 1.1626 - val_accuracy: 0.6634 - lr: 0.0010\n",
            "Epoch 24/70\n",
            "313/313 [==============================] - 102s 326ms/step - loss: 1.1547 - accuracy: 0.6682 - val_loss: 1.1496 - val_accuracy: 0.6671 - lr: 0.0010\n",
            "Epoch 25/70\n",
            "313/313 [==============================] - 102s 326ms/step - loss: 1.1427 - accuracy: 0.6718 - val_loss: 1.1355 - val_accuracy: 0.6708 - lr: 0.0010\n",
            "Epoch 26/70\n",
            "313/313 [==============================] - 102s 326ms/step - loss: 1.1217 - accuracy: 0.6768 - val_loss: 1.1207 - val_accuracy: 0.6743 - lr: 0.0010\n",
            "Epoch 27/70\n",
            "313/313 [==============================] - 102s 326ms/step - loss: 1.1067 - accuracy: 0.6798 - val_loss: 1.1153 - val_accuracy: 0.6768 - lr: 0.0010\n",
            "Epoch 28/70\n",
            "313/313 [==============================] - 102s 325ms/step - loss: 1.0880 - accuracy: 0.6847 - val_loss: 1.1038 - val_accuracy: 0.6800 - lr: 0.0010\n",
            "Epoch 29/70\n",
            "313/313 [==============================] - 102s 326ms/step - loss: 1.0672 - accuracy: 0.6891 - val_loss: 1.0963 - val_accuracy: 0.6814 - lr: 0.0010\n",
            "Epoch 30/70\n",
            "313/313 [==============================] - 102s 326ms/step - loss: 1.0555 - accuracy: 0.6961 - val_loss: 1.0866 - val_accuracy: 0.6822 - lr: 0.0010\n",
            "Epoch 31/70\n",
            "313/313 [==============================] - 102s 327ms/step - loss: 1.0514 - accuracy: 0.6969 - val_loss: 1.0755 - val_accuracy: 0.6864 - lr: 0.0010\n",
            "Epoch 32/70\n",
            "313/313 [==============================] - 102s 327ms/step - loss: 1.0374 - accuracy: 0.6978 - val_loss: 1.0679 - val_accuracy: 0.6873 - lr: 0.0010\n",
            "Epoch 33/70\n",
            "313/313 [==============================] - 102s 326ms/step - loss: 1.0272 - accuracy: 0.7009 - val_loss: 1.0616 - val_accuracy: 0.6891 - lr: 0.0010\n",
            "Epoch 34/70\n",
            "313/313 [==============================] - 102s 326ms/step - loss: 1.0130 - accuracy: 0.7055 - val_loss: 1.0553 - val_accuracy: 0.6903 - lr: 0.0010\n",
            "Epoch 35/70\n",
            "313/313 [==============================] - 102s 326ms/step - loss: 1.0081 - accuracy: 0.7055 - val_loss: 1.0479 - val_accuracy: 0.6932 - lr: 0.0010\n",
            "Epoch 36/70\n",
            "313/313 [==============================] - 102s 327ms/step - loss: 0.9985 - accuracy: 0.7087 - val_loss: 1.0405 - val_accuracy: 0.6952 - lr: 0.0010\n",
            "Epoch 37/70\n",
            "313/313 [==============================] - 102s 327ms/step - loss: 0.9824 - accuracy: 0.7103 - val_loss: 1.0339 - val_accuracy: 0.6980 - lr: 0.0010\n",
            "Epoch 38/70\n",
            "313/313 [==============================] - 102s 325ms/step - loss: 0.9836 - accuracy: 0.7120 - val_loss: 1.0284 - val_accuracy: 0.6985 - lr: 0.0010\n",
            "Epoch 39/70\n",
            "313/313 [==============================] - 102s 326ms/step - loss: 0.9708 - accuracy: 0.7166 - val_loss: 1.0228 - val_accuracy: 0.6995 - lr: 0.0010\n",
            "Epoch 40/70\n",
            "313/313 [==============================] - 102s 326ms/step - loss: 0.9535 - accuracy: 0.7196 - val_loss: 1.0190 - val_accuracy: 0.7025 - lr: 0.0010\n",
            "Epoch 41/70\n",
            "313/313 [==============================] - 102s 326ms/step - loss: 0.9469 - accuracy: 0.7214 - val_loss: 1.0194 - val_accuracy: 0.7033 - lr: 0.0010\n",
            "Epoch 42/70\n",
            "313/313 [==============================] - 102s 326ms/step - loss: 0.9367 - accuracy: 0.7249 - val_loss: 1.0098 - val_accuracy: 0.7020 - lr: 0.0010\n",
            "Epoch 43/70\n",
            "313/313 [==============================] - 102s 326ms/step - loss: 0.9313 - accuracy: 0.7265 - val_loss: 1.0050 - val_accuracy: 0.7037 - lr: 0.0010\n",
            "Epoch 44/70\n",
            "313/313 [==============================] - 103s 328ms/step - loss: 0.9266 - accuracy: 0.7265 - val_loss: 0.9978 - val_accuracy: 0.7082 - lr: 0.0010\n",
            "Epoch 45/70\n",
            "313/313 [==============================] - 102s 326ms/step - loss: 0.9143 - accuracy: 0.7318 - val_loss: 0.9964 - val_accuracy: 0.7073 - lr: 0.0010\n",
            "Epoch 46/70\n",
            "313/313 [==============================] - 102s 326ms/step - loss: 0.8990 - accuracy: 0.7333 - val_loss: 0.9889 - val_accuracy: 0.7086 - lr: 0.0010\n",
            "Epoch 47/70\n",
            "313/313 [==============================] - 102s 327ms/step - loss: 0.8994 - accuracy: 0.7325 - val_loss: 0.9852 - val_accuracy: 0.7118 - lr: 0.0010\n",
            "Epoch 48/70\n",
            "313/313 [==============================] - 103s 328ms/step - loss: 0.8936 - accuracy: 0.7335 - val_loss: 0.9805 - val_accuracy: 0.7115 - lr: 0.0010\n",
            "Epoch 49/70\n",
            "313/313 [==============================] - 102s 327ms/step - loss: 0.8825 - accuracy: 0.7373 - val_loss: 0.9797 - val_accuracy: 0.7120 - lr: 0.0010\n",
            "Epoch 50/70\n",
            "313/313 [==============================] - 102s 327ms/step - loss: 0.8752 - accuracy: 0.7379 - val_loss: 0.9750 - val_accuracy: 0.7123 - lr: 0.0010\n",
            "Epoch 51/70\n",
            "313/313 [==============================] - 102s 327ms/step - loss: 0.8648 - accuracy: 0.7446 - val_loss: 0.9725 - val_accuracy: 0.7134 - lr: 0.0010\n",
            "Epoch 52/70\n",
            "313/313 [==============================] - 102s 327ms/step - loss: 0.8632 - accuracy: 0.7424 - val_loss: 0.9612 - val_accuracy: 0.7181 - lr: 0.0010\n",
            "Epoch 53/70\n",
            "313/313 [==============================] - 102s 327ms/step - loss: 0.8631 - accuracy: 0.7428 - val_loss: 0.9633 - val_accuracy: 0.7193 - lr: 0.0010\n",
            "Epoch 54/70\n",
            "313/313 [==============================] - 102s 327ms/step - loss: 0.8518 - accuracy: 0.7434 - val_loss: 0.9607 - val_accuracy: 0.7179 - lr: 0.0010\n",
            "Epoch 55/70\n",
            "313/313 [==============================] - 102s 327ms/step - loss: 0.8431 - accuracy: 0.7493 - val_loss: 0.9580 - val_accuracy: 0.7195 - lr: 0.0010\n",
            "Epoch 56/70\n",
            "313/313 [==============================] - 103s 328ms/step - loss: 0.8405 - accuracy: 0.7500 - val_loss: 0.9573 - val_accuracy: 0.7183 - lr: 0.0010\n",
            "Epoch 57/70\n",
            "313/313 [==============================] - 102s 326ms/step - loss: 0.8314 - accuracy: 0.7487 - val_loss: 0.9603 - val_accuracy: 0.7171 - lr: 0.0010\n",
            "Epoch 58/70\n",
            "313/313 [==============================] - ETA: 0s - loss: 0.8312 - accuracy: 0.7527\n",
            "Epoch 58: ReduceLROnPlateau reducing learning rate to 0.0006000000284984708.\n",
            "313/313 [==============================] - 102s 326ms/step - loss: 0.8312 - accuracy: 0.7527 - val_loss: 0.9545 - val_accuracy: 0.7185 - lr: 0.0010\n",
            "Epoch 59/70\n",
            "313/313 [==============================] - 102s 326ms/step - loss: 0.8147 - accuracy: 0.7549 - val_loss: 0.9489 - val_accuracy: 0.7211 - lr: 6.0000e-04\n",
            "Epoch 60/70\n",
            "313/313 [==============================] - 102s 327ms/step - loss: 0.8162 - accuracy: 0.7566 - val_loss: 0.9471 - val_accuracy: 0.7227 - lr: 6.0000e-04\n",
            "Epoch 61/70\n",
            "313/313 [==============================] - 102s 326ms/step - loss: 0.8096 - accuracy: 0.7587 - val_loss: 0.9480 - val_accuracy: 0.7218 - lr: 6.0000e-04\n",
            "Epoch 62/70\n",
            "313/313 [==============================] - 102s 326ms/step - loss: 0.8135 - accuracy: 0.7562 - val_loss: 0.9474 - val_accuracy: 0.7224 - lr: 6.0000e-04\n",
            "Epoch 63/70\n",
            "313/313 [==============================] - ETA: 0s - loss: 0.7965 - accuracy: 0.7622\n",
            "Epoch 63: ReduceLROnPlateau reducing learning rate to 0.0003600000170990825.\n",
            "313/313 [==============================] - 102s 326ms/step - loss: 0.7965 - accuracy: 0.7622 - val_loss: 0.9434 - val_accuracy: 0.7215 - lr: 6.0000e-04\n",
            "Epoch 64/70\n",
            "313/313 [==============================] - 102s 326ms/step - loss: 0.7968 - accuracy: 0.7604 - val_loss: 0.9426 - val_accuracy: 0.7239 - lr: 3.6000e-04\n",
            "Epoch 65/70\n",
            "313/313 [==============================] - 102s 326ms/step - loss: 0.7958 - accuracy: 0.7594 - val_loss: 0.9415 - val_accuracy: 0.7233 - lr: 3.6000e-04\n",
            "Epoch 66/70\n",
            "313/313 [==============================] - 102s 327ms/step - loss: 0.7935 - accuracy: 0.7605 - val_loss: 0.9413 - val_accuracy: 0.7240 - lr: 3.6000e-04\n",
            "Epoch 67/70\n",
            "313/313 [==============================] - 102s 327ms/step - loss: 0.7948 - accuracy: 0.7600 - val_loss: 0.9386 - val_accuracy: 0.7241 - lr: 3.6000e-04\n",
            "Epoch 68/70\n",
            "313/313 [==============================] - ETA: 0s - loss: 0.7925 - accuracy: 0.7624"
          ]
        }
      ],
      "source": [
        "from datetime import datetime\n",
        "\n",
        "start_time=timer(None)\n",
        "result=model.fit(\n",
        "    train_datagen.flow(x_train, y_train, batch_size = 128),\n",
        "    validation_data = (x_val, y_val),\n",
        "    epochs = 70,\n",
        "    verbose = 1,\n",
        "    callbacks=[tensorboard_callback, learning_rate_reduction])\n",
        "timer(start_time)\n"
      ],
      "id": "f8cb87ea"
    },
    {
      "cell_type": "code",
      "execution_count": null,
      "metadata": {
        "id": "teeoq9sw7kvl"
      },
      "outputs": [],
      "source": [
        "%tensorboard --logdir logs"
      ],
      "id": "teeoq9sw7kvl"
    },
    {
      "cell_type": "code",
      "execution_count": 42,
      "metadata": {
        "id": "a2a86727",
        "colab": {
          "base_uri": "https://localhost:8080/"
        },
        "outputId": "f7cf22a9-7b75-4809-cf53-aad9e081db5f"
      },
      "outputs": [
        {
          "output_type": "stream",
          "name": "stdout",
          "text": [
            "Model: \"sequential\"\n",
            "_________________________________________________________________\n",
            " Layer (type)                Output Shape              Param #   \n",
            "=================================================================\n",
            " up_sampling2d (UpSampling2  (None, None, None, None   0         \n",
            " D)                          )                                   \n",
            "                                                                 \n",
            " resnet50 (Functional)       (None, 7, 7, 2048)        23587712  \n",
            "                                                                 \n",
            " global_average_pooling2d (  (None, 2048)              0         \n",
            " GlobalAveragePooling2D)                                         \n",
            "                                                                 \n",
            " dropout (Dropout)           (None, 2048)              0         \n",
            "                                                                 \n",
            " dense (Dense)               (None, 256)               524544    \n",
            "                                                                 \n",
            " batch_normalization (Batch  (None, 256)               1024      \n",
            " Normalization)                                                  \n",
            "                                                                 \n",
            " dense_1 (Dense)             (None, 100)               25700     \n",
            "                                                                 \n",
            "=================================================================\n",
            "Total params: 24138980 (92.08 MB)\n",
            "Trainable params: 603876 (2.30 MB)\n",
            "Non-trainable params: 23535104 (89.78 MB)\n",
            "_________________________________________________________________\n"
          ]
        }
      ],
      "source": [
        "model.summary()"
      ],
      "id": "a2a86727"
    },
    {
      "cell_type": "markdown",
      "metadata": {
        "id": "b5a6fbe2"
      },
      "source": [
        "## Plot accuracy and Loss"
      ],
      "id": "b5a6fbe2"
    },
    {
      "cell_type": "code",
      "execution_count": null,
      "metadata": {
        "id": "f5309a51"
      },
      "outputs": [],
      "source": [
        "plot_acc_loss(result)\n"
      ],
      "id": "f5309a51"
    },
    {
      "cell_type": "markdown",
      "metadata": {
        "id": "17fc3d08"
      },
      "source": [
        "## Predictions,Accuracy and Confusion Matrix"
      ],
      "id": "17fc3d08"
    },
    {
      "cell_type": "code",
      "execution_count": 45,
      "metadata": {
        "id": "ae5b9896",
        "colab": {
          "base_uri": "https://localhost:8080/"
        },
        "outputId": "c3d803a6-d67a-458b-8df6-c19f399b2221"
      },
      "outputs": [
        {
          "output_type": "stream",
          "name": "stdout",
          "text": [
            "313/313 [==============================] - 9s 28ms/step\n",
            "(10000,) (10000,)\n"
          ]
        }
      ],
      "source": [
        "y_pred = np.argmax(model.predict(X_test_subset), axis=-1)\n",
        "y_true = Y_test_subset.ravel()\n",
        "print(y_pred.shape,y_true.shape)\n"
      ],
      "id": "ae5b9896"
    },
    {
      "cell_type": "code",
      "execution_count": 44,
      "metadata": {
        "id": "cbbc4416",
        "colab": {
          "base_uri": "https://localhost:8080/"
        },
        "outputId": "876109e0-0f28-4080-9908-8c284ab541b2"
      },
      "outputs": [
        {
          "output_type": "stream",
          "name": "stdout",
          "text": [
            "Testing Accuracy:  0.7276\n"
          ]
        }
      ],
      "source": [
        "print(\"Testing Accuracy: \", accuracy_score(y_true,y_pred))"
      ],
      "id": "cbbc4416"
    },
    {
      "cell_type": "code",
      "execution_count": 43,
      "metadata": {
        "id": "a3eb5ad5",
        "colab": {
          "base_uri": "https://localhost:8080/"
        },
        "outputId": "8d717620-9850-48b0-c46a-7d516a9d9c08"
      },
      "outputs": [
        {
          "output_type": "execute_result",
          "data": {
            "text/plain": [
              "array([[85,  0,  0, ...,  0,  0,  0],\n",
              "       [ 0, 80,  1, ...,  0,  0,  0],\n",
              "       [ 0,  1, 66, ...,  0,  3,  0],\n",
              "       ...,\n",
              "       [ 0,  0,  0, ..., 72,  0,  0],\n",
              "       [ 0,  0,  5, ...,  0, 47,  0],\n",
              "       [ 0,  0,  0, ...,  0,  0, 83]])"
            ]
          },
          "metadata": {},
          "execution_count": 43
        }
      ],
      "source": [
        "cm = confusion_matrix(y_true,y_pred)\n",
        "cm"
      ],
      "id": "a3eb5ad5"
    },
    {
      "cell_type": "code",
      "execution_count": 46,
      "metadata": {
        "id": "2gWd1vSx5aY2",
        "colab": {
          "base_uri": "https://localhost:8080/",
          "height": 394
        },
        "outputId": "3e8754dc-adb8-4c21-9490-57af28d4edac"
      },
      "outputs": [
        {
          "output_type": "display_data",
          "data": {
            "text/plain": [
              "<Figure size 2000x400 with 3 Axes>"
            ],
            "image/png": "[encoded data removed]"
          },
          "metadata": {}
        },
        {
          "output_type": "stream",
          "name": "stdout",
          "text": [
            "Training Performance:\n",
            "Accuracy: 76.25%\n",
            "Loss: 0.7872\n",
            "\n",
            "Validation Performance:\n",
            "Accuracy: 72.62%\n",
            "Loss: 0.9379\n"
          ]
        }
      ],
      "source": [
        "model_performance(result)"
      ],
      "id": "2gWd1vSx5aY2"
    },
    {
      "cell_type": "markdown",
      "metadata": {
        "id": "QPIJwFu1nl5u"
      },
      "source": [
        "# Out of the Box Model: What Did We Learn?\n",
        "\n",
        "First, it is important to note that only a portion of the CIFAR100 data was used in this run. The model achived ~70% training accuracy and ~60% testing accuracy. If we gave the model more or all of the available data we would have seen significantly better performance. ResNet models regularly achive 80-90% accuracy on this dataset.\n",
        "\n",
        "ResNet models utilize the concept of residual blocks. These allow the neural net to skip over certain layers using shortcuts. The residual block tries to learn by looking at the residuals between the input and the target output. This helps reduce the vanishing gradient problem. This particular model is called ResNet50 because it has 50 layers.\n",
        "\n",
        "It is worth asking why the model did not overfit. This particular model was created to prevent overfitting. If you look at the outpout from the run you'll see the model automatically reduced the learning rate every time it was at risk of overfitting. By the time the model hit epoch 148 it had its final reduction in learning rate.\n",
        "\n",
        "Another important feature of this model was image augmentation. This effectively gives us more data by providing some variation to the original dataset. This model was set up to perform the following augmentations:\n",
        "\n",
        "\n",
        "1.   Rotation: Random image rotation of up to 10 degrees\n",
        "2.   Zoom: Random zooms up to 10%\n",
        "3.   Width and Height Shift: Both can be shifted up to 10%\n",
        "4.   Shear: Images are randomly sheared by up to 10%\n",
        "5.   Horizontal and Vertical flip: Images are randomly flipped horizontally but not vertically.\n",
        "\n",
        "We implemented Tensorboard into the model. It is a built in visualization package for Tensorflow. You can view documentation for this feature [here](https://www.tensorflow.org/tensorboard).\n",
        "\n",
        "According to the graphs Tensor board created, we can see that the beta and gamma parameters bounced aroudn quite a bit during the beginning and middle of the run then finally stabilized toward the end.\n",
        "\n",
        "We also generated a graph to show accuracy and loss for both the training and validation sets. These support the graphics created by Tensorboard. The model learned well during the beginning of the run but stalled out toward the end.\n",
        "\n",
        "Running this model on limited data taught us quite a bit. First, we how to add some advanced features to our model, particularly data augmentation. Second, we learned how to interpret the batch normalization visualizations Tensorboard created on a complicated model.  \n",
        "\n",
        "\n",
        "\n"
      ],
      "id": "QPIJwFu1nl5u"
    }
  ],
  "metadata": {
    "accelerator": "GPU",
    "colab": {
      "gpuType": "V100",
      "machine_shape": "hm",
      "provenance": [],
      "include_colab_link": true
    },
    "kernelspec": {
      "display_name": "Python 3",
      "name": "python3"
    },
    "language_info": {
      "codemirror_mode": {
        "name": "ipython",
        "version": 3
      },
      "file_extension": ".py",
      "mimetype": "text/x-python",
      "name": "python",
      "nbconvert_exporter": "python",
      "pygments_lexer": "ipython3",
      "version": "3.7.10"
    },
    "papermill": {
      "default_parameters": {},
      "duration": 16374.216031,
      "end_time": "2021-08-14T23:29:04.201553",
      "environment_variables": {},
      "exception": null,
      "input_path": "__notebook__.ipynb",
      "output_path": "__notebook__.ipynb",
      "parameters": {},
      "start_time": "2021-08-14T18:56:09.985522",
      "version": "2.3.3"
    }
  },
  "nbformat": 4,
  "nbformat_minor": 5
}
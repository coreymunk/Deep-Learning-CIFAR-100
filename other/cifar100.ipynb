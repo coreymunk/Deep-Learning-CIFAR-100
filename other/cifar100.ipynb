{
 "cells": [
  {
   "cell_type": "markdown",
   "metadata": {},
   "source": [
    "# COMP 4531 Final Project - Winter 2024\n",
    "\n",
    "Team: Corey Munk and Kurt Meyer\n",
    "\n",
    "Topic: Image Classification with the CIFAR-100 data set\n",
    "\n",
    "\n",
    "The problem is well understood. In your final project, please utilize some pre-built models. While they are generally large and accurate, they should be used to establish the upper bound of performance. Then, demonstrate the detailed steps you took to develop your own model. Of course, using a random classifier to set a baseline is not meaningful.\n",
    "\n",
    "\n"
   ]
  },
  {
   "cell_type": "markdown",
   "metadata": {},
   "source": [
    "# Load Packages and Data with some EDA"
   ]
  },
  {
   "cell_type": "code",
   "execution_count": 25,
   "metadata": {},
   "outputs": [
    {
     "name": "stdout",
     "output_type": "stream",
     "text": [
      "Tensor Flow Version: 2.15.0\n"
     ]
    }
   ],
   "source": [
    "import numpy as np \n",
    "import tensorflow as tf\n",
    "\n",
    "from matplotlib import pyplot as plt\n",
    "from sklearn.dummy import DummyClassifier\n",
    "\n",
    "from keras.datasets import cifar100\n",
    "from keras.utils import to_categorical\n",
    "\n",
    "from sklearn.datasets import load_digits\n",
    "from sklearn.metrics import accuracy_score, confusion_matrix, classification_report\n",
    "from sklearn.model_selection import train_test_split\n",
    "\n",
    "import seaborn as sns\n",
    "from tensorflow.math import confusion_matrix as tf_confusion_matrix\n",
    "from tensorflow.keras.callbacks import TensorBoard\n",
    "\n",
    "import warnings\n",
    "\n",
    "warnings.filterwarnings('ignore', module='tensorflow')\n",
    "# warnings.filterwarnings('default')\n",
    "\n",
    "print('Tensor Flow Version:', tf.__version__)"
   ]
  },
  {
   "cell_type": "code",
   "execution_count": 26,
   "metadata": {},
   "outputs": [
    {
     "name": "stdout",
     "output_type": "stream",
     "text": [
      "(50000, 32, 32, 3)\n",
      "(50000, 100)\n",
      "(10000, 32, 32, 3)\n",
      "(10000, 100)\n"
     ]
    }
   ],
   "source": [
    "# Load CIFAR-100 data\n",
    "(x_train, y_train), (x_test, y_test) = cifar100.load_data() \n",
    "\n",
    "# normalize pixel values\n",
    "x_train, x_test = x_train/255, x_test/255\n",
    "\n",
    "#one hot encode labels\n",
    "y_train = to_categorical(y_train, num_classes=100)\n",
    "y_test = to_categorical(y_test, num_classes=100)\n",
    "\n",
    "print(x_train.shape)\n",
    "print(y_train.shape)\n",
    "print(x_test.shape)\n",
    "print(y_test.shape)"
   ]
  },
  {
   "cell_type": "code",
   "execution_count": null,
   "metadata": {},
   "outputs": [],
   "source": [
    "# Show sample count by label to visualize the balance of the data\n",
    "class_labels = y_train.flatten()\n",
    "\n",
    "plt.figure(figsize=(10,5))\n",
    "plt.hist(class_labels, bins=np.arange(0,101), alpha=.8, color='green', edgecolor='black')\n",
    "plt.title(f'Sample Distribution in Classes for CIFAR-100 (n = {len(class_labels)})')\n",
    "plt.xlabel('Class')\n",
    "plt.ylabel('Sample Count')\n",
    "plt.xticks(np.arange(0,101, step=5))\n",
    "plt.show()\n",
    "\n",
    "\n",
    "# Display an image from each class in the dataset\n",
    "distinct_labels = np.unique(y_train)\n",
    "fig, axes = plt.subplots(10, 10, figsize=(10, 10))\n",
    "\n",
    "for i, label in enumerate(distinct_labels):\n",
    "    # Get image and label\n",
    "    idx = np.where(y_train == label)[0]\n",
    "    random_index = np.random.choice(idx)\n",
    "    image, label = x_train[random_index], y_train[random_index][0]\n",
    "    \n",
    "    # Define grid cell to place image\n",
    "    row = i // 10\n",
    "    col = i % 10\n",
    "    \n",
    "    # Display image in defined grid cell\n",
    "    current_image = (image.reshape((32, 32, 3)) * 255).clip(0, 255).astype(int)\n",
    "    axes[row, col].imshow(current_image, interpolation='nearest')\n",
    "    axes[row, col].set_title(f\"Label: {label}\", fontsize=8)\n",
    "    axes[row, col].axis('off')\n",
    "\n",
    "plt.tight_layout()\n",
    "plt.show()\n"
   ]
  },
  {
   "cell_type": "markdown",
   "metadata": {},
   "source": [
    "## Augmentation"
   ]
  },
  {
   "cell_type": "code",
   "execution_count": 5,
   "metadata": {},
   "outputs": [],
   "source": [
    "from tensorflow.keras.preprocessing.image import ImageDataGenerator\n",
    "# Create an ImageDataGenerator with data augmentation\n",
    "datagen = ImageDataGenerator(\n",
    "    rotation_range=20,\n",
    "    width_shift_range=0.2,\n",
    "    height_shift_range=0.2,\n",
    "    horizontal_flip=True\n",
    ")\n",
    "\n",
    "# l1 normalization?"
   ]
  },
  {
   "cell_type": "markdown",
   "metadata": {},
   "source": [
    "## Callbacks"
   ]
  },
  {
   "cell_type": "code",
   "execution_count": 27,
   "metadata": {},
   "outputs": [],
   "source": [
    "from tensorflow.keras.layers import BatchNormalization\n",
    "\n",
    "from tensorflow.keras.callbacks import ReduceLROnPlateau, EarlyStopping, ModelCheckpoint, TensorBoard\n",
    "\n",
    "reduce_lr = ReduceLROnPlateau(monitor='val_loss', factor=0.2, patience=5, min_lr=1e-7)\n",
    "\n",
    "early_stopping = EarlyStopping(monitor='val_loss', patience=10, restore_best_weights=True)\n",
    "\n",
    "checkpoint = ModelCheckpoint('best_model.h5', monitor='val_loss', save_best_only=True)\n",
    "\n",
    "tensorboard_callback = TensorBoard(log_dir='logs', histogram_freq=1)\n",
    "\n"
   ]
  },
  {
   "cell_type": "markdown",
   "metadata": {},
   "source": [
    "## CNN Model"
   ]
  },
  {
   "cell_type": "code",
   "execution_count": 75,
   "metadata": {},
   "outputs": [],
   "source": [
    "#V1\n",
    "# model = tf.keras.models.Sequential([\n",
    "#     tf.keras.layers.Conv2D(32, (3,3), activation='relu', input_shape=(32, 32, 3)),\n",
    "#     tf.keras.layers.MaxPool2D((2,2)),\n",
    "\n",
    "#     tf.keras.layers.Conv2D(64, (3,3), activation='relu'),\n",
    "#     tf.keras.layers.MaxPool2D((2,2)),\n",
    "\n",
    "#     tf.keras.layers.Flatten(),\n",
    "#     tf.keras.layers.Dense(100, activation='softmax')\n",
    "# ])\n",
    "\n",
    "#V2\n",
    "model = tf.keras.models.Sequential([\n",
    "    tf.keras.layers.Conv2D(32, (3,3), activation='relu', input_shape=(32, 32, 3)),\n",
    "    tf.keras.layers.MaxPool2D((2,2)),\n",
    "\n",
    "    tf.keras.layers.Conv2D(64, (3,3), activation='relu'),\n",
    "    tf.keras.layers.MaxPool2D((2,2)),\n",
    "\n",
    "    tf.keras.layers.Flatten(),\n",
    "    tf.keras.layers.Dense(128, activation='relu'),\n",
    "    tf.keras.layers.Dropout(.5),\n",
    "    tf.keras.layers.Dense(100, activation='softmax')\n",
    "])\n",
    "\n",
    "#V3\n",
    "# model = tf.keras.models.Sequential([\n",
    "#     tf.keras.layers.Conv2D(32, (3,3), activation='relu', input_shape=(32, 32, 3)),\n",
    "#     tf.keras.layers.BatchNormalization(),\n",
    "#     tf.keras.layers.MaxPool2D((2,2)),\n",
    "#     tf.keras.layers.Conv2D(64, (3,3), activation='relu'),\n",
    "#     tf.keras.layers.BatchNormalization(),\n",
    "#     tf.keras.layers.MaxPool2D((2,2)),\n",
    "#     tf.keras.layers.Flatten(),\n",
    "#     tf.keras.layers.Dense(128, activation='relu'),\n",
    "#     tf.keras.layers.Dropout(.5),\n",
    "#     tf.keras.layers.Dense(100, activation='softmax')\n",
    "# ])\n",
    "\n",
    "\n",
    "model.compile(optimizer='adam'\n",
    "             ,loss='categorical_crossentropy'\n",
    "             ,metrics=['accuracy']\n",
    ")\n",
    "\n",
    "# model.summary()"
   ]
  },
  {
   "cell_type": "code",
   "execution_count": 76,
   "metadata": {},
   "outputs": [],
   "source": [
    "hist = model.fit(x_train, y_train, \n",
    "                 epochs=50,\n",
    "                 verbose=False, \n",
    "                 validation_data=(x_test, y_test), \n",
    "                 callbacks=[tensorboard_callback,\n",
    "                            reduce_lr,\n",
    "                            early_stopping\n",
    "                           ]\n",
    ")"
   ]
  },
  {
   "cell_type": "code",
   "execution_count": 78,
   "metadata": {},
   "outputs": [
    {
     "data": {
      "image/png": "[encoded data removed]",
      "text/plain": [
       "<Figure size 1200x400 with 2 Axes>"
      ]
     },
     "metadata": {},
     "output_type": "display_data"
    },
    {
     "name": "stdout",
     "output_type": "stream",
     "text": [
      "Training Performance:\n",
      "Final Training Accuracy: 44.66%\n",
      "Final Training Loss: 1.9683\n",
      "\n",
      "Validation Performance:\n",
      "Final Validation Accuracy: 36.9%\n",
      "Final Validation Loss: 2.6009\n",
      "\n",
      "Model Performance on Test Data:\n",
      "Accuracy: 36.63%\n",
      "Loss: 2.5637\n"
     ]
    }
   ],
   "source": [
    "# Plots\n",
    "plt.figure(figsize=(12, 4))\n",
    "\n",
    "# plot accuracy\n",
    "plt.subplot(1, 2, 1)\n",
    "plt.plot(hist.history['accuracy'], label='Training Accuracy')\n",
    "plt.plot(hist.history['val_accuracy'], label='Validation Accuracy')\n",
    "plt.xlabel('Epochs')\n",
    "plt.ylabel('Accuracy')\n",
    "plt.ylim(0, 1)\n",
    "plt.legend()\n",
    "\n",
    "# plot loss\n",
    "plt.subplot(1, 2, 2)\n",
    "plt.plot(hist.history['loss'], label='Training Loss')\n",
    "plt.plot(hist.history['val_loss'], label='Validation Loss')\n",
    "plt.xlabel('Epochs')\n",
    "plt.ylabel('Loss')\n",
    "plt.legend()\n",
    "\n",
    "plt.tight_layout()\n",
    "plt.show()\n",
    "\n",
    "# Training Data\n",
    "final_train_accuracy = hist.history['accuracy'][-1]\n",
    "final_train_loss = hist.history['loss'][-1]\n",
    "print('Training Performance:')\n",
    "print(f\"Final Training Accuracy: {round(final_train_accuracy*100, 2)}%\")\n",
    "print(f\"Final Training Loss: {round(final_train_loss, 4)}\")\n",
    "\n",
    "# Validation Data\n",
    "final_val_accuracy = hist.history['val_accuracy'][-1]\n",
    "final_val_loss = hist.history['val_loss'][-1]\n",
    "print('\\nValidation Performance:')\n",
    "print(f\"Final Validation Accuracy: {round(final_val_accuracy*100, 2)}%\")\n",
    "print(f\"Final Validation Loss: {round(final_val_loss, 4)}\")\n",
    "\n",
    "# Test Data\n",
    "test_loss, test_accuracy = model.evaluate(x_test, y_test, verbose=0)\n",
    "print('\\nModel Performance on Test Data:')\n",
    "print(f\"Accuracy: {round(test_accuracy*100, 2)}%\")\n",
    "print(f\"Loss: {round(test_loss, 4)}\")"
   ]
  },
  {
   "cell_type": "code",
   "execution_count": null,
   "metadata": {},
   "outputs": [],
   "source": [
    "# model.save('cifar100_model.h5')"
   ]
  }
 ],
 "metadata": {
  "kernelspec": {
   "display_name": "Python 3",
   "language": "python",
   "name": "python3"
  },
  "language_info": {
   "codemirror_mode": {
    "name": "ipython",
    "version": 3
   },
   "file_extension": ".py",
   "mimetype": "text/x-python",
   "name": "python",
   "nbconvert_exporter": "python",
   "pygments_lexer": "ipython3",
   "version": "3.11.0"
  }
 },
 "nbformat": 4,
 "nbformat_minor": 2
}

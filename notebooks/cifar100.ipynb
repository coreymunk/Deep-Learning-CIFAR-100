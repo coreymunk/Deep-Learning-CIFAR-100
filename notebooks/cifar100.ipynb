{
 "cells": [
  {
   "cell_type": "markdown",
   "metadata": {},
   "source": [
    "# COMP 4531 Final Project - Winter 2024\n",
    "\n",
    "Team: Corey Munk and Kurt Meyer\n",
    "\n",
    "Topic: Image Classification using the CIFAR-100 data set\n",
    "\n",
    "\n",
    "\n"
   ]
  },
  {
   "cell_type": "markdown",
   "metadata": {},
   "source": [
    "Google forms to fill out: https://docs.google.com/forms/d/e/1FAIpQLSc4jIBcai4vrnZs1AWR9Wnnudwp_HvlDbdSGrVPxY6BsFrvFw/viewform\n",
    "\n",
    "EDA:\n",
    "- count of samples by group? enough samples to train?\n",
    "\n",
    "Project Overview:\n",
    "- simple model to compare? --no because you cant use linear reg for image classification?\n",
    "- find model that has been published to act as upper bound? --mobilenetv2 or EfficientNetB0?"
   ]
  },
  {
   "cell_type": "code",
   "execution_count": 56,
   "metadata": {},
   "outputs": [],
   "source": [
    "import numpy as np \n",
    "from matplotlib import pyplot as plt\n",
    "from keras.datasets import cifar100\n",
    "from keras.utils import to_categorical\n",
    "from sklearn.datasets import load_digits\n",
    "from sklearn.metrics import accuracy_score\n",
    "from sklearn.model_selection import train_test_split\n",
    "from sklearn.dummy import DummyClassifier"
   ]
  },
  {
   "cell_type": "code",
   "execution_count": 57,
   "metadata": {},
   "outputs": [],
   "source": [
    "# Load CIFAR-100 data and create train test splits\n",
    "(X, Y), (_, _) = cifar100.load_data() \n",
    "\n",
    "X_train, X_test, Y_train, Y_test = train_test_split(X, Y, test_size=.2, random_state=123, shuffle=True)\n"
   ]
  },
  {
   "cell_type": "code",
   "execution_count": 58,
   "metadata": {},
   "outputs": [
    {
     "name": "stdout",
     "output_type": "stream",
     "text": [
      "Baseline accuracy for Random Dummy Classifier: 0.91%\n"
     ]
    }
   ],
   "source": [
    "# Create a random classifier Dummy classifier\n",
    "dummy_rand = DummyClassifier(strategy=\"uniform\", random_state=123)\n",
    "\n",
    "# train the dummy classifier\n",
    "dummy_rand.fit(X_train, Y_train)\n",
    "\n",
    "# make predicitons\n",
    "dummy_rand_preds = dummy_rand.predict(X_test)\n",
    "\n",
    "# calc accuracy\n",
    "baseline_accuracy_dummyrand = accuracy_score(Y_test, dummy_rand_preds)\n",
    "\n",
    "print(f\"Baseline accuracy for Random Dummy Classifier: {baseline_accuracy_dummyrand * 100}%\")"
   ]
  },
  {
   "cell_type": "code",
   "execution_count": 59,
   "metadata": {},
   "outputs": [
    {
     "name": "stdout",
     "output_type": "stream",
     "text": [
      "X_train: (3072, 40000)\n",
      "X_test: (3072, 10000)\n",
      "y_train: (40000, 1)\n",
      "y_test: (10000, 1)\n"
     ]
    }
   ],
   "source": [
    "# Vectorize and normalize input images\n",
    "X_train = (X_train.reshape(X_train.shape[0], -1).T) / 255\n",
    "X_test = (X_test.reshape(X_test.shape[0], -1).T) / 255\n",
    "\n",
    "print(\"X_train:\", X_train.shape)\n",
    "print(\"X_test:\", X_test.shape)\n",
    "print(\"y_train:\", Y_train.shape)\n",
    "print(\"y_test:\", Y_test.shape)"
   ]
  },
  {
   "cell_type": "code",
   "execution_count": 60,
   "metadata": {},
   "outputs": [],
   "source": [
    "input_size = 32*32*3 # each image is 32x32 in size with three color channels\n",
    "hidden_size = 15 # define number of hidden neurons\n",
    "output_size = 100 # there are 100 classes\n",
    "\n",
    "def init_params():\n",
    "\n",
    "    # input layer\n",
    "    W1 = np.random.uniform(low = -0.5, high = 0.5, size=(hidden_size, input_size)) # 30x3072\n",
    "    b1 = np.random.uniform(low = -0.5, high = 0.5, size=(hidden_size, 1)) # 30x1\n",
    "\n",
    "    # hidden layer\n",
    "    W2 = np.random.uniform(low = -0.5, high = 0.5, size=(output_size, hidden_size)) # 100x30\n",
    "    b2 = np.random.uniform(low = -0.5, high = 0.5, size=(output_size, 1)) # 100x1\n",
    "    return W1, b1, W2, b2"
   ]
  },
  {
   "cell_type": "code",
   "execution_count": 61,
   "metadata": {},
   "outputs": [],
   "source": [
    "# Activation function to implement non linearity\n",
    "\n",
    "a = .02\n",
    "\n",
    "def LeakyReLU(Z, a=a):\n",
    "    return np.where(Z>0, Z, a*Z)\n",
    "\n",
    "def LeakyReLU_deriv(Z, a=a):\n",
    "    return np.where(Z > 0, 1, a)\n",
    "\n",
    "def softmax(Z):\n",
    "    A = np.exp(Z) / np.sum(np.exp(Z), axis=0, keepdims=True)\n",
    "    return A"
   ]
  },
  {
   "cell_type": "code",
   "execution_count": 62,
   "metadata": {},
   "outputs": [],
   "source": [
    "def forward_prop(W1, b1, W2, b2, X):\n",
    "\n",
    "    Z1 = np.dot(W1, X) + b1 # the input layer takes in X applies the weights and bias to it via linear operations\n",
    "\n",
    "    A1 = LeakyReLU(Z1) # activation function takes in Z1 which is the output from the linear opeerations\n",
    "\n",
    "    Z2 = np.dot(W2, A1) + b2 # the hidden layer takes in A1 from the activation funciton and again applies the weights and bias to it via linear operations\n",
    "\n",
    "    A2 = softmax(Z2) # finally the softmax function takes in Z2 from the hidden layer and ensures that the sum of the probabilities are equal to one and can thus be compared apples to apples.\n",
    "\n",
    "    return Z1, A1, Z2, A2"
   ]
  },
  {
   "cell_type": "code",
   "execution_count": 63,
   "metadata": {},
   "outputs": [],
   "source": [
    "# This one hot function is to convert a numeric number into a one-hot vector\n",
    "def one_hot(Y):\n",
    "    num_samples = len(Y) # total rows of image data \n",
    "    num_labels = output_size # possible labels\n",
    "    one_hot_Y = np.zeros((num_labels, num_samples)) # create an array to store the one hot encoded label for each image\n",
    "\n",
    "    for i in range(num_samples): # loop through each image and encode its true label\n",
    "        one_hot_Y[Y[i], i] = 1\n",
    "\n",
    "    return one_hot_Y\n",
    "\n",
    "# Now performing the backward propagation\n",
    "# Each function is only one line, but lots of Calculus behind \n",
    "def backward_prop(Z1, A1, Z2, A2, W1, W2, X, Y):\n",
    "    m = X.shape[1]\n",
    "    \n",
    "    dZ2 = A2 - one_hot(Y)\n",
    "    dW2 = np.dot(dZ2, A1.T) * (1/m) \n",
    "    db2 = np.sum(dZ2, axis=1, keepdims=True) * (1/m) \n",
    "\n",
    "    dA1 = np.dot(W2.T, dZ2)\n",
    "    dZ1 = dA1 * LeakyReLU_deriv(Z1)\n",
    "    dW1 = np.dot(dZ1, X.T) * (1/m) \n",
    "    db1 = np.sum(dZ1, axis=1, keepdims=True) * (1/m) \n",
    "\n",
    "    return dW1, db1, dW2, db2\n",
    "\n",
    "# Finally, we are ready to update the parameters\n",
    "def update_params(W1, b1, W2, b2, dW1, db1, dW2, db2, alpha):\n",
    "\n",
    "    W1 = W1 - (alpha * dW1)\n",
    "    \n",
    "    b1 = b1 - (alpha * db1)\n",
    "\n",
    "    W2 = W2 - (alpha * dW2)\n",
    "\n",
    "    b2 = b2 - (alpha * db2)\n",
    "\n",
    "    return W1, b1, W2, b2\n"
   ]
  },
  {
   "cell_type": "code",
   "execution_count": 64,
   "metadata": {},
   "outputs": [],
   "source": [
    "# Gradient Descent\n",
    "\n",
    "def get_predictions(A2):\n",
    "    return np.argmax(A2, axis=0) # returns the label that was given the highest propability by the softmax function\n",
    "\n",
    "# We also want to have a simple function to compute the accuracy. Notice that \"predictions\" and \"Y\" are the same shape\n",
    "def get_accuracy(predictions, Y):\n",
    "    return np.mean(predictions == Y) * 100 # compares the predictions to the true labels and returns the accuracy\n",
    "\n",
    "def get_loss(A2, Y):\n",
    "    m = Y.shape[1]\n",
    "    log_prob = -np.log(A2[Y, np.arange(m)])\n",
    "    loss = np.sum(log_prob) / m\n",
    "    return loss\n",
    "\n",
    "# Finally, we are ready to implement gradient descent\n",
    "def gradient_descent(X, Y, alpha, iterations):\n",
    "\n",
    "    W1, b1, W2, b2 = init_params()\n",
    "\n",
    "    for i in range(iterations):\n",
    "     \n",
    "        Z1, A1, Z2, A2 = forward_prop(W1, b1, W2, b2, X)\n",
    "\n",
    "        dW1, db1, dW2, db2 = backward_prop(Z1, A1, Z2, A2, W1, W2, X, Y)\n",
    "\n",
    "        W1, b1, W2, b2 = update_params(W1, b1, W2, b2, dW1, db1, dW2, db2, alpha)\n",
    "\n",
    "        if i % 10 == 0:\n",
    "            print(\"Iteration: \", i)\n",
    "            print(\"Loss:\", get_loss(A2, Y))\n",
    "            predictions = get_predictions(A2)\n",
    "            print(\"Accuracy\", get_accuracy(predictions, Y))\n",
    "            \n",
    "    return W1, b1, W2, b2"
   ]
  },
  {
   "cell_type": "code",
   "execution_count": 65,
   "metadata": {},
   "outputs": [
    {
     "name": "stdout",
     "output_type": "stream",
     "text": [
      "Iteration:  0\n",
      "Loss: 292268.92356873705\n",
      "Accuracy 0.99328275\n",
      "Iteration:  10\n",
      "Loss: 186088.4818545613\n",
      "Accuracy 1.0129081875\n",
      "Iteration:  20\n",
      "Loss: 186039.86774401966\n",
      "Accuracy 1.013284\n",
      "Iteration:  30\n",
      "Loss: 185985.8165152687\n",
      "Accuracy 1.0132755\n",
      "Iteration:  40\n",
      "Loss: 185930.09144428198\n",
      "Accuracy 1.013155625\n",
      "Iteration:  50\n",
      "Loss: 185874.22437567794\n",
      "Accuracy 1.012991125\n",
      "Iteration:  60\n",
      "Loss: 185819.47840316856\n",
      "Accuracy 1.0127866875\n",
      "Iteration:  70\n",
      "Loss: 185766.74391911837\n",
      "Accuracy 1.0126095\n",
      "Iteration:  80\n",
      "Loss: 185716.01687275973\n",
      "Accuracy 1.012451875\n",
      "Iteration:  90\n",
      "Loss: 185667.2279368917\n",
      "Accuracy 1.0122994374999998\n",
      "Iteration:  100\n",
      "Loss: 185620.18036412366\n",
      "Accuracy 1.012191125\n",
      "Iteration:  110\n",
      "Loss: 185574.84305383347\n",
      "Accuracy 1.012109125\n",
      "Iteration:  120\n",
      "Loss: 185531.26760919765\n",
      "Accuracy 1.0120420625\n",
      "Iteration:  130\n",
      "Loss: 185489.45368781645\n",
      "Accuracy 1.011991125\n",
      "Iteration:  140\n",
      "Loss: 185449.2427566665\n",
      "Accuracy 1.011947375\n",
      "Iteration:  150\n",
      "Loss: 185410.58672668517\n",
      "Accuracy 1.0118976874999999\n",
      "Iteration:  160\n",
      "Loss: 185373.49123908638\n",
      "Accuracy 1.0119031250000001\n",
      "Iteration:  170\n",
      "Loss: 185337.91666872514\n",
      "Accuracy 1.011894375\n",
      "Iteration:  180\n",
      "Loss: 185303.77066176897\n",
      "Accuracy 1.0118928125\n",
      "Iteration:  190\n",
      "Loss: 185270.95561631932\n",
      "Accuracy 1.0118891875\n",
      "Iteration:  200\n",
      "Loss: 185239.3858926354\n",
      "Accuracy 1.0119025\n",
      "Iteration:  210\n",
      "Loss: 185208.9649869196\n",
      "Accuracy 1.0118710625\n",
      "Iteration:  220\n",
      "Loss: 185179.6681233811\n",
      "Accuracy 1.011903625\n",
      "Iteration:  230\n",
      "Loss: 185151.4681038377\n",
      "Accuracy 1.0119005\n",
      "Iteration:  240\n",
      "Loss: 185124.34645462633\n",
      "Accuracy 1.0118630625\n",
      "Iteration:  250\n",
      "Loss: 185098.155862836\n",
      "Accuracy 1.0118119375\n",
      "Iteration:  260\n",
      "Loss: 185072.8894379946\n",
      "Accuracy 1.01177275\n",
      "Iteration:  270\n",
      "Loss: 185048.54483884707\n",
      "Accuracy 1.0116811875\n",
      "Iteration:  280\n",
      "Loss: 185025.09586258463\n",
      "Accuracy 1.011580125\n",
      "Iteration:  290\n",
      "Loss: 185002.50654711336\n",
      "Accuracy 1.011459125\n",
      "Iteration:  300\n",
      "Loss: 184980.73968289525\n",
      "Accuracy 1.0112899375\n",
      "Iteration:  310\n",
      "Loss: 184959.77645834637\n",
      "Accuracy 1.01111375\n",
      "Iteration:  320\n",
      "Loss: 184939.5980517045\n",
      "Accuracy 1.01087125\n",
      "Iteration:  330\n",
      "Loss: 184920.24443319062\n",
      "Accuracy 1.0106705\n",
      "Iteration:  340\n",
      "Loss: 184901.67020451854\n",
      "Accuracy 1.0104238125\n",
      "Iteration:  350\n",
      "Loss: 184883.7862062708\n",
      "Accuracy 1.0101574375\n",
      "Iteration:  360\n",
      "Loss: 184866.5230899881\n",
      "Accuracy 1.0098938125\n",
      "Iteration:  370\n",
      "Loss: 184849.8647112955\n",
      "Accuracy 1.0095680625\n",
      "Iteration:  380\n",
      "Loss: 184833.8181469072\n",
      "Accuracy 1.00918925\n",
      "Iteration:  390\n",
      "Loss: 184818.39404047542\n",
      "Accuracy 1.008796625\n",
      "Iteration:  400\n",
      "Loss: 184803.5298048414\n",
      "Accuracy 1.0084496875\n",
      "Iteration:  410\n",
      "Loss: 184789.2660622164\n",
      "Accuracy 1.008066375\n",
      "Iteration:  420\n",
      "Loss: 184775.51413336766\n",
      "Accuracy 1.0076786875000001\n",
      "Iteration:  430\n",
      "Loss: 184762.29395041981\n",
      "Accuracy 1.007280875\n",
      "Iteration:  440\n",
      "Loss: 184749.57056631712\n",
      "Accuracy 1.0068866250000001\n",
      "Iteration:  450\n",
      "Loss: 184737.3154824108\n",
      "Accuracy 1.0065179375\n",
      "Iteration:  460\n",
      "Loss: 184725.49304112155\n",
      "Accuracy 1.006143\n",
      "Iteration:  470\n",
      "Loss: 184714.11918922764\n",
      "Accuracy 1.005700625\n",
      "Iteration:  480\n",
      "Loss: 184703.1572056677\n",
      "Accuracy 1.0053099374999999\n",
      "Iteration:  490\n",
      "Loss: 184692.6012502442\n",
      "Accuracy 1.0049104999999998\n"
     ]
    }
   ],
   "source": [
    "alpha = .1\n",
    "epochs = 500\n",
    "\n",
    "W1, b1, W2, b2 = gradient_descent(X_train, Y_train, alpha, epochs)"
   ]
  },
  {
   "cell_type": "code",
   "execution_count": 66,
   "metadata": {},
   "outputs": [
    {
     "data": {
      "text/plain": [
       "0.981456"
      ]
     },
     "execution_count": 66,
     "metadata": {},
     "output_type": "execute_result"
    }
   ],
   "source": [
    "def make_predictions(X, W1, b1, W2, b2):\n",
    "    _, _, _, A2 = forward_prop(W1, b1, W2, b2, X)\n",
    "    predictions = get_predictions(A2)\n",
    "    return predictions\n",
    "\n",
    "dev_predictions = make_predictions(X_test, W1, b1, W2, b2)\n",
    "get_accuracy(dev_predictions, Y_test)"
   ]
  },
  {
   "cell_type": "code",
   "execution_count": 67,
   "metadata": {},
   "outputs": [
    {
     "data": {
      "image/png": "[encoded data removed]",
      "text/plain": [
       "<Figure size 640x480 with 1 Axes>"
      ]
     },
     "metadata": {},
     "output_type": "display_data"
    },
    {
     "data": {
      "image/png": "[encoded data removed]",
      "text/plain": [
       "<Figure size 640x480 with 1 Axes>"
      ]
     },
     "metadata": {},
     "output_type": "display_data"
    },
    {
     "data": {
      "image/png": "[encoded data removed]",
      "text/plain": [
       "<Figure size 640x480 with 1 Axes>"
      ]
     },
     "metadata": {},
     "output_type": "display_data"
    },
    {
     "data": {
      "image/png": "[encoded data removed]",
      "text/plain": [
       "<Figure size 640x480 with 1 Axes>"
      ]
     },
     "metadata": {},
     "output_type": "display_data"
    }
   ],
   "source": [
    "def test_prediction(index, W1, b1, W2, b2):\n",
    "    current_image = X_train[:, index, None]\n",
    "    prediction = make_predictions(X_train[:, index, None], W1, b1, W2, b2)\n",
    "    label = Y_train[index]\n",
    "    # print(\"Prediction: \", prediction)\n",
    "    # print(\"Label: \", label)\n",
    "    \n",
    "    current_image = ( current_image.reshape((32, 32, 3)) * 255 ).clip(0,255).astype(int)\n",
    "    plt.imshow(current_image, interpolation='nearest')\n",
    "    plt.title(f\"Prediction:{prediction}   Label:{label}\")\n",
    "    plt.show()\n",
    "    \n",
    "test_prediction(0, W1, b1, W2, b2)\n",
    "test_prediction(1, W1, b1, W2, b2)\n",
    "test_prediction(2, W1, b1, W2, b2)\n",
    "test_prediction(50, W1, b1, W2, b2)"
   ]
  },
  {
   "cell_type": "code",
   "execution_count": 68,
   "metadata": {},
   "outputs": [
    {
     "name": "stdout",
     "output_type": "stream",
     "text": [
      "Vector representation of X_train[0]:\n",
      "[0.25098039 0.23529412 0.2627451  ... 0.11764706 0.09803922 0.05490196]\n"
     ]
    }
   ],
   "source": [
    "index_to_print = 0  # Choose the index of the image you want to print\n",
    "vector_representation = X_train[:, index_to_print]\n",
    "\n",
    "print(f\"Vector representation of X_train[{index_to_print}]:\")\n",
    "print(vector_representation)"
   ]
  }
 ],
 "metadata": {
  "kernelspec": {
   "display_name": "Python 3",
   "language": "python",
   "name": "python3"
  },
  "language_info": {
   "codemirror_mode": {
    "name": "ipython",
    "version": 3
   },
   "file_extension": ".py",
   "mimetype": "text/x-python",
   "name": "python",
   "nbconvert_exporter": "python",
   "pygments_lexer": "ipython3",
   "version": "3.11.0"
  }
 },
 "nbformat": 4,
 "nbformat_minor": 2
}
